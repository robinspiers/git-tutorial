{
 "cells": [
  {
   "cell_type": "markdown",
   "metadata": {},
   "source": [
    "## Q1\n",
    "Collaborative filtering based recommender systems are based on user-rating-item tuples. Describe how such a dataset is represented in Chapter 2 of the collective intelligence book. We ask for a precise description of the data structure."
   ]
  },
  {
   "cell_type": "markdown",
   "metadata": {},
   "source": [
    "> 1. A user-rating-item tuple\n",
    "> 2. There are 3 columns: user_id, item_id and rating."
   ]
  },
  {
   "cell_type": "markdown",
   "metadata": {},
   "source": [
    "## Q2 \n",
    "Describe how you can store these user-rating-item tuples in one spreadheet. \n",
    "1. What represents each row?\n",
    "2. How many columns has the spreadsheet and what are the names of the columns?"
   ]
  },
  {
   "cell_type": "markdown",
   "metadata": {},
   "source": [
    "> 1. Each row represents a user\n",
    "> 2. There are as many columns as items plus 1, the name of each column is the name of the item. The extra column contains the user-id. Each cell contains the rating."
   ]
  },
  {
   "cell_type": "markdown",
   "metadata": {},
   "source": [
    "## Q3\n",
    "An important aspect of collaborative filtering based recommender systems is to compute the similarity between two users. On the basis of what is this computed?"
   ]
  },
  {
   "cell_type": "markdown",
   "metadata": {},
   "source": [
    "> On the ratings of the items that both users have rated. \n",
    "\n",
    "> On their shared items.\n",
    "\n",
    "> On the intersection of the items that they have rated."
   ]
  },
  {
   "cell_type": "markdown",
   "metadata": {},
   "source": [
    "> The transpose of the matrix in answer 2 (rows are items, columns are users)."
   ]
  },
  {
   "cell_type": "markdown",
   "metadata": {},
   "source": [
    "## Q4\n",
    "Collaborative filtering based recommender systems, recommend, _given a user_, the \"best item for that user, that she has not (yet) rated\".\n",
    "\n",
    "Actually what do these systems compute/estimate in order to make that recommendation?"
   ]
  },
  {
   "cell_type": "markdown",
   "metadata": {},
   "source": [
    "> Given a user `c`, they compute for each not rated item `s` the expected  `rating(c,s)`  (rating by user `c` of item `s`).\n",
    "\n",
    "(Not needed for a good answer: they then recommend the item with the highest expected rating.)"
   ]
  },
  {
   "cell_type": "markdown",
   "metadata": {},
   "source": [
    "## Q5 \n",
    "Collaborative recommendations are defined as follows in Adomavicius et al: \n",
    "> The user will be\n",
    "recommended items that people with similar tastes\n",
    "and preferences liked in the past.\n",
    "\n",
    "How do they define \"content-based recommendations\"?"
   ]
  },
  {
   "cell_type": "markdown",
   "metadata": {},
   "source": [
    "> The user will be\n",
    "recommended items similar to the ones the user\n",
    "preferred in the past;"
   ]
  },
  {
   "cell_type": "markdown",
   "metadata": {},
   "source": [
    "## Q6\n",
    "The Movielens dataset is described as follows:\n",
    ">MovieLens 20M\n",
    "Stable benchmark dataset. 20 million ratings   applied to 27,000 movies by 138,000 users. \n",
    "\n",
    "WE want to calculate the similarities between users. Suppose calculating the  similarity between users x and y takes 1 millisecond. Roughly how long do we need to compute all similarities? \n",
    "\n",
    "\n",
    "We want to express it as a small number of timeunits. So if it is 1000 seconds, we express it in minutes or \"kwartieren\") (because this is 16 minutes, or roughly 1 kwartier). \n",
    "\n",
    "What is the most appropriate temporal unit? (You may use a calculator)."
   ]
  },
  {
   "cell_type": "code",
   "execution_count": 15,
   "metadata": {},
   "outputs": [
    {
     "data": {
      "text/plain": [
       "(9521931000.0,\n",
       " 9521931.0,\n",
       " 158698.85,\n",
       " 10579.923333333334,\n",
       " 2644.9808333333335,\n",
       " 110.20753472222223,\n",
       " 15.743933531746034,\n",
       " 3.6735844907407413)"
      ]
     },
     "execution_count": 15,
     "metadata": {},
     "output_type": "execute_result"
    }
   ],
   "source": [
    "from __future__ import division \n",
    "\n",
    "millisecs = 138000 * (138000-1) / 2\n",
    "secs = millisecs / 1000\n",
    "mins = secs / 60\n",
    "kwartieren = mins / 15\n",
    "hours = kwartieren / 4\n",
    "days = hours / 24\n",
    "weeks = days / 7\n",
    "months = days / 30\n",
    "\n",
    "millisecs, secs, mins, kwartieren, hours, days, weeks, months"
   ]
  },
  {
   "cell_type": "markdown",
   "metadata": {},
   "source": [
    "> Thus the best answer is months, but weeks is also allowed"
   ]
  },
  {
   "cell_type": "markdown",
   "metadata": {},
   "source": [
    "## Q7\n",
    "In the collective intelligence book a snapshot from Amazons website is shown showing the well-known \"Customers who bought this item also bought:\" followed by a list of other _similar_ items to the one you just bought.\n",
    "\n",
    "If the just bought item is brand new (that is, you are the first customer buying it), with what technique can the similarity between that and other items be calculated?"
   ]
  },
  {
   "cell_type": "markdown",
   "metadata": {},
   "source": [
    "> A good answer must contain these three words: Content based methods.\n",
    "\n",
    "oftewel gebaseerd op kenmerken van het product (zoals genre, schrijver, acteurs etc) en kenmerken van de koper (eerdere aankopen, voorkeuren etc)"
   ]
  },
  {
   "cell_type": "markdown",
   "metadata": {},
   "source": [
    "## Q8\n",
    "Compute the dot product of `(1,2,3,4)` and `(4,5,6,7)`.\n",
    "\n",
    "## Q9\n",
    "What is the TF of the word _as_ in the following document (assume all words are lowercased and interpunction is removed):\n",
    "\n",
    ">Compute the cosine similarity of `(1,2,3,4)` and `(4,5,6,7)`. The formula is also enough, as long as it is 100% correct.\n",
    "\n",
    "## Q10\n",
    "The word `rendementsdenken` occurs in one of every 100 documents about the UvA. The word `onderwijs` in one in every 100.000. What is the IDF of these two words? You can use logarithm with base 10."
   ]
  },
  {
   "cell_type": "code",
   "execution_count": 21,
   "metadata": {},
   "outputs": [
    {
     "name": "stdout",
     "output_type": "stream",
     "text": [
      "[1 2 3 4] [4 5 6 7]\n",
      "60\n",
      "0.975900072949\n",
      "2.0 5.0\n"
     ]
    }
   ],
   "source": [
    "import numpy as np\n",
    "from math import sqrt,log\n",
    "a,b = np.array((1,2,3,4)), np.array((4,5,6,7))\n",
    "print(a,b)\n",
    "\n",
    "#Q8, dot product\n",
    "# dus: 1*4 + 2*5 + 3*6 + 4*7\n",
    "print(a.dot(b))\n",
    "\n",
    "#Q9, cosine similarity\n",
    "# sqrt is wortel\n",
    "print(a.dot(b) / (sqrt(a.dot(a)) * sqrt(b.dot(b))))\n",
    "\n",
    "#Q10, idf, log base 10\n",
    "print(log(10**2,10), log(10**5,10))"
   ]
  },
  {
   "cell_type": "code",
   "execution_count": 18,
   "metadata": {},
   "outputs": [
    {
     "data": {
      "text/plain": [
       "(30, 126, 5.477225575051661, 11.224972160321824)"
      ]
     },
     "execution_count": 18,
     "metadata": {},
     "output_type": "execute_result"
    }
   ],
   "source": [
    "a.dot(a), b.dot(b), sqrt(a.dot(a)), sqrt(b.dot(b))"
   ]
  },
  {
   "cell_type": "code",
   "execution_count": null,
   "metadata": {},
   "outputs": [],
   "source": []
  }
 ],
 "metadata": {
  "kernelspec": {
   "display_name": "Python 3",
   "language": "python",
   "name": "python3"
  },
  "language_info": {
   "codemirror_mode": {
    "name": "ipython",
    "version": 3
   },
   "file_extension": ".py",
   "mimetype": "text/x-python",
   "name": "python",
   "nbconvert_exporter": "python",
   "pygments_lexer": "ipython3",
   "version": "3.6.2"
  }
 },
 "nbformat": 4,
 "nbformat_minor": 2
}
