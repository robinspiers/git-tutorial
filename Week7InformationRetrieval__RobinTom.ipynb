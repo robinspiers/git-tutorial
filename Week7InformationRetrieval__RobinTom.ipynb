{
 "cells": [
  {
   "cell_type": "markdown",
   "metadata": {},
   "source": [
    "# Assignment Collective Intelligence Week 7: Information retrieval"
   ]
  },
  {
   "cell_type": "markdown",
   "metadata": {},
   "source": [
    "## Notebook made by   (If not filled in correctly: 0 pts for assignment)\n",
    "\n",
    "__Name(s)__: Robin Spiers & Tom Handgraaf\n",
    "\n",
    "__Student id(s)__ : 11829494 & 11852615\n",
    "\n",
    "### Pledge (taken from [Coursera's Honor Code](https://www.coursera.org/about/terms/honorcode) )\n",
    "\n",
    "Put here a selfie with your photo where you hold a signed paper with the following text: (if this is team work, put two selfies here). The link must be to some place on the web, not to a local file.\n",
    "\n",
    "> My answers to homework, quizzes and exams will be my own work (except for assignments that explicitly permit collaboration).\n",
    "\n",
    ">I will not make solutions to homework, quizzes or exams available to anyone else. This includes both solutions written by me, as well as any official solutions provided by the course staff.\n",
    "\n",
    ">I will not engage in any other activities that will dishonestly improve my results or dishonestly improve/hurt the results of others.\n",
    "\n",
    "<img src='https://i.imgur.com/RZVQP9i.jpg'/>"
   ]
  },
  {
   "cell_type": "code",
   "execution_count": 3,
   "metadata": {},
   "outputs": [],
   "source": [
    "from collections import Counter,defaultdict\n",
    "from bs4 import BeautifulSoup\n",
    "import os\n",
    "import glob\n",
    "import nltk\n",
    "import math\n",
    "from __future__ import division\n",
    "import requests\n",
    "from collections import Counter\n",
    "import re"
   ]
  },
  {
   "cell_type": "markdown",
   "metadata": {},
   "source": [
    "**Q1** Make a couple of functions which do the following:\n",
    "\n",
    "1. Download all these files: <http://www.ibiblio.org/xml/examples/shakespeare/>, and store them locally in a folder.\n",
    "2. Make a function `index_collection(folder)` which reads in each file `f` in that folder, and returns a dict with words as keys and as values a dict with filenames as keys and how often the word occurs in the filename as values. So:\n",
    "    1. Extract the text\n",
    "    3. tokenize and lower case that text\n",
    "    2. for each token `w`: how often `w` occurs in `f`\n",
    "\n"
   ]
  },
  {
   "cell_type": "code",
   "execution_count": 4,
   "metadata": {},
   "outputs": [],
   "source": [
    "def index_collection(folder):\n",
    " \n",
    "    # initialize MyIndex\n",
    "    MyIndex = defaultdict(lambda:{})\n",
    "    \n",
    "    files = [file for file in glob.glob(os.path.join(folder, '*.xml'))]\n",
    "    \n",
    "    # loop over each file\n",
    "    for file in files:\n",
    "        \n",
    "        # open file\n",
    "        with open(file) as f:\n",
    "        \n",
    "            # extract text using BeautifulSoup\n",
    "            tomatensoep = BeautifulSoup(f, \"lxml\")\n",
    "            text = ' '.join(t.text for t in tomatensoep.findAll('line'))\n",
    "        \n",
    "            # tokenize & lower case\n",
    "            tokenizer = nltk.tokenize.RegexpTokenizer(r'\\w+')\n",
    "            tokens = tokenizer.tokenize(text.lower())\n",
    "        \n",
    "            # update MyIndex with each token\n",
    "            counted = Counter(tokens)\n",
    "            for x in tokens:\n",
    "                MyIndex[x][file[12:]] = counted[x]\n",
    "    \n",
    "    # for each token w, w: how many times w appears in f\n",
    "    MyIndex = {w : (len(MyIndex[w]), MyIndex[w]) for w in MyIndex}\n",
    "    return MyIndex"
   ]
  },
  {
   "cell_type": "code",
   "execution_count": 5,
   "metadata": {},
   "outputs": [
    {
     "ename": "KeyError",
     "evalue": "'love'",
     "output_type": "error",
     "traceback": [
      "\u001b[1;31m---------------------------------------------------------------------------\u001b[0m",
      "\u001b[1;31mKeyError\u001b[0m                                  Traceback (most recent call last)",
      "\u001b[1;32m<ipython-input-5-6afecd09960b>\u001b[0m in \u001b[0;36m<module>\u001b[1;34m()\u001b[0m\n\u001b[0;32m      5\u001b[0m \u001b[1;33m\u001b[0m\u001b[0m\n\u001b[0;32m      6\u001b[0m \u001b[1;31m# Now I can call\u001b[0m\u001b[1;33m\u001b[0m\u001b[1;33m\u001b[0m\u001b[0m\n\u001b[1;32m----> 7\u001b[1;33m \u001b[0mshakespeare\u001b[0m\u001b[1;33m[\u001b[0m\u001b[1;34m'love'\u001b[0m\u001b[1;33m]\u001b[0m\u001b[1;33m\u001b[0m\u001b[0m\n\u001b[0m\u001b[0;32m      8\u001b[0m \u001b[1;31m# and obtain a dict of filename:count pairs\u001b[0m\u001b[1;33m\u001b[0m\u001b[1;33m\u001b[0m\u001b[0m\n",
      "\u001b[1;31mKeyError\u001b[0m: 'love'"
     ]
    }
   ],
   "source": [
    "path_to_folder = \"shakespeare\"\n",
    "\n",
    "# try it out \n",
    "shakespeare = index_collection(path_to_folder)\n",
    "\n",
    "# Now I can call \n",
    "shakespeare['love']\n",
    "# and obtain a dict of filename:count pairs"
   ]
  },
  {
   "cell_type": "code",
   "execution_count": null,
   "metadata": {},
   "outputs": [],
   "source": [
    "{\n",
    "    'love': {\n",
    "        'macbeth': 30,\n",
    "        \n",
    "    }\n",
    "}"
   ]
  },
  {
   "cell_type": "markdown",
   "metadata": {},
   "source": [
    "**Q2**  Change your function `index_collection(folder)` so that it also stores the document frequency of each word: as follows\n",
    "\n",
    "```\n",
    "shakespeare['macbeth'] = (document_frequency of 'macbeth', dict of filename:count pairs)\n",
    "```"
   ]
  },
  {
   "cell_type": "code",
   "execution_count": null,
   "metadata": {},
   "outputs": [],
   "source": [
    "shakespeare=index_collection_plusDF(path_to_my_folder)"
   ]
  },
  {
   "cell_type": "code",
   "execution_count": null,
   "metadata": {},
   "outputs": [],
   "source": [
    "shakespeare['love']"
   ]
  },
  {
   "cell_type": "markdown",
   "metadata": {},
   "source": [
    "**Q3** Create a function `query(index,string)` which does information retrieval on a created index.\n",
    "\n",
    "1. It first tokenizes string into a list `L` of keywords .\n",
    "2. Then it computes `sum(score(w,doc) for w in L)` for each document `doc` in our collection.\n",
    "3. `score(w,doc)` is simply `(TF(w,doc) * IDF(w)) `, where `TF(w,doc)` is the raw frequency of `w` in `doc` and `IDF(w)` is the inverse document frequency as defined in [G. Adomavicius and A. Tuzhilin. \"Towards the Next Generation of Recommender Systems: A Survey of the State-of-the-Art and Possible Extensions.\" IEEE Transactions on Knowledge and Data Engineering, vol. 17, no. 6, June 2005. ](http://web.stanford.edu/class/ee378b/papers/adomavicius-recsys.pdf) \n",
    "4. The output is a list of `(score,filename)` pairs sorted on `score`. "
   ]
  },
  {
   "cell_type": "code",
   "execution_count": null,
   "metadata": {},
   "outputs": [],
   "source": [
    "def score(w,doc,index,N):\n",
    "    TF = doc[w] / len(doc)\n",
    "    IDF = np.log10(N / index[w][0])\n",
    "    return TF * IDF\n",
    "      \n",
    "def query(index,string):\n",
    "    # set the list of docs and the number of docs\n",
    "    Docs = [f for f in glob.glob(os.path.join(path_to_folder, '*.xml'))]\n",
    "    Number_of_docs = max([index[i][0] for i in index])\n",
    "    \n",
    "    # step 1 tokenize string\n",
    "    tokenizer = nltk.tokenize.RegexpTokenizer(r'\\w+')\n",
    "    tokens = tokenizer.tokenize(string.lower())\n",
    "\n",
    "    # compute score for each doc\n",
    "    scores = []\n",
    "    for doc in Docs:\n",
    "        with open(doc) as f:\n",
    "            # applying tokenizer and counter\n",
    "            groentesoep = BeautifulSoup(f, \"lxml\")\n",
    "            text = ' '.join(x.text for x in groentesoep.findAll('line'))\n",
    "            text = tokenizer.tokenize(text.lower())\n",
    "            text = Counter(text)\n",
    "            \n",
    "            # compute score\n",
    "            temp = 0\n",
    "            for w in tokens:\n",
    "                temp += score(w, text, index, Number_of_docs)\n",
    "            scores.append((temp, doc[12:]))\n",
    "    # sort\n",
    "    return sorted(scores, key = lambda x: x[0])\n",
    "    \n",
    "# test\n",
    "query(shakespeare,'caesar caesar')"
   ]
  },
  {
   "cell_type": "markdown",
   "metadata": {},
   "source": [
    "**Q4** Argue that you have just implemented the dot-product of the query-vector and the document-vector. \n",
    "\n",
    "* Experiment with adding the same term multiple times to the query. What happens? Does that make sense?"
   ]
  },
  {
   "cell_type": "markdown",
   "metadata": {},
   "source": [
    "#### Antwoord Q4\n",
    "\n",
    "Het dot-product van de query-vector en de document-vector is hetzelfde als de som van alle items in de TF-query van die term en de TF-IDF waarde van de term in het document.\n",
    "\n",
    "Wanneer dezelfde term twee keer wordt ingevuld wordt de score van elk document twee keer zo groot. Hierbij worden de scores van de verschillende woorden per document opgeteld, waardoor de score per doc wordt verdubbeld."
   ]
  },
  {
   "cell_type": "markdown",
   "metadata": {},
   "source": [
    "# Interactive search engine\n",
    "\n",
    "* Just for fun, we show you how you can create an interactive search engine in your notebook"
   ]
  },
  {
   "cell_type": "code",
   "execution_count": 6,
   "metadata": {},
   "outputs": [],
   "source": [
    "# See  https://github.com/ipython/ipywidgets/blob/master/README.md\n",
    "from __future__ import print_function\n",
    "from ipywidgets import interact, interactive, fixed\n",
    "import ipywidgets as widgets"
   ]
  },
  {
   "cell_type": "code",
   "execution_count": 7,
   "metadata": {},
   "outputs": [
    {
     "ename": "NameError",
     "evalue": "name 'query' is not defined",
     "output_type": "error",
     "traceback": [
      "\u001b[1;31m---------------------------------------------------------------------------\u001b[0m",
      "\u001b[1;31mNameError\u001b[0m                                 Traceback (most recent call last)",
      "\u001b[1;32m<ipython-input-7-1a46125f8f61>\u001b[0m in \u001b[0;36m<module>\u001b[1;34m()\u001b[0m\n\u001b[0;32m      1\u001b[0m \u001b[1;31m# poging 1\u001b[0m\u001b[1;33m\u001b[0m\u001b[1;33m\u001b[0m\u001b[0m\n\u001b[1;32m----> 2\u001b[1;33m \u001b[0minteract\u001b[0m\u001b[1;33m(\u001b[0m\u001b[0mquery\u001b[0m\u001b[1;33m,\u001b[0m\u001b[0mindex\u001b[0m\u001b[1;33m=\u001b[0m\u001b[0mfixed\u001b[0m\u001b[1;33m(\u001b[0m\u001b[0mshakespeare\u001b[0m\u001b[1;33m)\u001b[0m\u001b[1;33m,\u001b[0m\u001b[0mstring\u001b[0m\u001b[1;33m=\u001b[0m\u001b[1;34m'caesar'\u001b[0m\u001b[1;33m)\u001b[0m\u001b[1;33m;\u001b[0m\u001b[1;33m\u001b[0m\u001b[0m\n\u001b[0m",
      "\u001b[1;31mNameError\u001b[0m: name 'query' is not defined"
     ]
    }
   ],
   "source": [
    "# poging 1\n",
    "interact(query,index=fixed(shakespeare),string='caesar');"
   ]
  },
  {
   "cell_type": "code",
   "execution_count": 8,
   "metadata": {},
   "outputs": [
    {
     "ename": "NameError",
     "evalue": "name 'query' is not defined",
     "output_type": "error",
     "traceback": [
      "\u001b[1;31m---------------------------------------------------------------------------\u001b[0m",
      "\u001b[1;31mNameError\u001b[0m                                 Traceback (most recent call last)",
      "\u001b[1;32mc:\\users\\rspie\\appdata\\local\\programs\\python\\python36-32\\lib\\site-packages\\ipywidgets\\widgets\\interaction.py\u001b[0m in \u001b[0;36mupdate\u001b[1;34m(self, *args)\u001b[0m\n\u001b[0;32m    248\u001b[0m                     \u001b[0mvalue\u001b[0m \u001b[1;33m=\u001b[0m \u001b[0mwidget\u001b[0m\u001b[1;33m.\u001b[0m\u001b[0mget_interact_value\u001b[0m\u001b[1;33m(\u001b[0m\u001b[1;33m)\u001b[0m\u001b[1;33m\u001b[0m\u001b[0m\n\u001b[0;32m    249\u001b[0m                     \u001b[0mself\u001b[0m\u001b[1;33m.\u001b[0m\u001b[0mkwargs\u001b[0m\u001b[1;33m[\u001b[0m\u001b[0mwidget\u001b[0m\u001b[1;33m.\u001b[0m\u001b[0m_kwarg\u001b[0m\u001b[1;33m]\u001b[0m \u001b[1;33m=\u001b[0m \u001b[0mvalue\u001b[0m\u001b[1;33m\u001b[0m\u001b[0m\n\u001b[1;32m--> 250\u001b[1;33m                 \u001b[0mself\u001b[0m\u001b[1;33m.\u001b[0m\u001b[0mresult\u001b[0m \u001b[1;33m=\u001b[0m \u001b[0mself\u001b[0m\u001b[1;33m.\u001b[0m\u001b[0mf\u001b[0m\u001b[1;33m(\u001b[0m\u001b[1;33m**\u001b[0m\u001b[0mself\u001b[0m\u001b[1;33m.\u001b[0m\u001b[0mkwargs\u001b[0m\u001b[1;33m)\u001b[0m\u001b[1;33m\u001b[0m\u001b[0m\n\u001b[0m\u001b[0;32m    251\u001b[0m                 \u001b[0mshow_inline_matplotlib_plots\u001b[0m\u001b[1;33m(\u001b[0m\u001b[1;33m)\u001b[0m\u001b[1;33m\u001b[0m\u001b[0m\n\u001b[0;32m    252\u001b[0m                 \u001b[1;32mif\u001b[0m \u001b[0mself\u001b[0m\u001b[1;33m.\u001b[0m\u001b[0mauto_display\u001b[0m \u001b[1;32mand\u001b[0m \u001b[0mself\u001b[0m\u001b[1;33m.\u001b[0m\u001b[0mresult\u001b[0m \u001b[1;32mis\u001b[0m \u001b[1;32mnot\u001b[0m \u001b[1;32mNone\u001b[0m\u001b[1;33m:\u001b[0m\u001b[1;33m\u001b[0m\u001b[0m\n",
      "\u001b[1;32m<ipython-input-8-a679f53f0db1>\u001b[0m in \u001b[0;36mshow_search_results\u001b[1;34m(index, your_query, top)\u001b[0m\n\u001b[0;32m      1\u001b[0m \u001b[1;31m# poging 2: mooiere output\u001b[0m\u001b[1;33m\u001b[0m\u001b[1;33m\u001b[0m\u001b[0m\n\u001b[0;32m      2\u001b[0m \u001b[1;32mdef\u001b[0m \u001b[0mshow_search_results\u001b[0m\u001b[1;33m(\u001b[0m\u001b[0mindex\u001b[0m\u001b[1;33m,\u001b[0m\u001b[0myour_query\u001b[0m\u001b[1;33m,\u001b[0m \u001b[0mtop\u001b[0m\u001b[1;33m=\u001b[0m\u001b[1;36m5\u001b[0m\u001b[1;33m)\u001b[0m\u001b[1;33m:\u001b[0m\u001b[1;33m\u001b[0m\u001b[0m\n\u001b[1;32m----> 3\u001b[1;33m     \u001b[0mhits\u001b[0m\u001b[1;33m=\u001b[0m\u001b[0mquery\u001b[0m\u001b[1;33m(\u001b[0m\u001b[0mindex\u001b[0m\u001b[1;33m,\u001b[0m\u001b[0myour_query\u001b[0m\u001b[1;33m)\u001b[0m\u001b[1;33m\u001b[0m\u001b[0m\n\u001b[0m\u001b[0;32m      4\u001b[0m     \u001b[1;32mif\u001b[0m \u001b[0misinstance\u001b[0m\u001b[1;33m(\u001b[0m\u001b[0mhits\u001b[0m\u001b[1;33m,\u001b[0m \u001b[0mbasestring\u001b[0m\u001b[1;33m)\u001b[0m\u001b[1;33m:\u001b[0m\u001b[1;33m\u001b[0m\u001b[0m\n\u001b[0;32m      5\u001b[0m         \u001b[1;32mreturn\u001b[0m \u001b[0mhits\u001b[0m\u001b[1;33m\u001b[0m\u001b[0m\n",
      "\u001b[1;31mNameError\u001b[0m: name 'query' is not defined"
     ]
    }
   ],
   "source": [
    "# poging 2: mooiere output\n",
    "def show_search_results(index,your_query, top=5):\n",
    "    hits=query(index,your_query)\n",
    "    if isinstance(hits, basestring):\n",
    "        return hits\n",
    "    else:\n",
    "        return {p[1]:p[0] for p in hits[:top]}\n",
    "\n",
    "interact(show_search_results ,   index=fixed(shakespeare),your_query='caesar');"
   ]
  },
  {
   "cell_type": "markdown",
   "metadata": {},
   "source": [
    "### PageRank"
   ]
  },
  {
   "cell_type": "code",
   "execution_count": 9,
   "metadata": {},
   "outputs": [
    {
     "data": {
      "image/png": "[encoded data removed]",
      "text/plain": [
       "<matplotlib.figure.Figure at 0xe3e70f0>"
      ]
     },
     "metadata": {},
     "output_type": "display_data"
    }
   ],
   "source": [
    "%matplotlib inline\n",
    "import networkx as nx\n",
    "\n",
    "# Create a typical power law directed network\n",
    "H= nx.gnc_graph(10)\n",
    "\n",
    "nx.draw(H, with_labels=True)"
   ]
  },
  {
   "cell_type": "code",
   "execution_count": 10,
   "metadata": {},
   "outputs": [
    {
     "ename": "TypeError",
     "evalue": "'dict_values' object is not subscriptable",
     "output_type": "error",
     "traceback": [
      "\u001b[1;31m---------------------------------------------------------------------------\u001b[0m",
      "\u001b[1;31mTypeError\u001b[0m                                 Traceback (most recent call last)",
      "\u001b[1;32m<timed eval>\u001b[0m in \u001b[0;36m<module>\u001b[1;34m()\u001b[0m\n",
      "\u001b[1;31mTypeError\u001b[0m: 'dict_values' object is not subscriptable"
     ]
    }
   ],
   "source": [
    "# compute pagerank\n",
    "% time nx.pagerank(H).values()[:10]"
   ]
  },
  {
   "cell_type": "code",
   "execution_count": 11,
   "metadata": {},
   "outputs": [
    {
     "data": {
      "text/plain": [
       "(2, <dict_keyiterator at 0xcb1a450>, OutEdgeDataView([(4, 0), (4, 2)]))"
      ]
     },
     "execution_count": 11,
     "metadata": {},
     "output_type": "execute_result"
    }
   ],
   "source": [
    "# some handy functions\n",
    "n=4\n",
    "H.out_degree(n), H.neighbors(n),H.edges(n)"
   ]
  },
  {
   "cell_type": "code",
   "execution_count": 12,
   "metadata": {},
   "outputs": [
    {
     "name": "stdout",
     "output_type": "stream",
     "text": [
      "0 <dict_keyiterator object at 0x0E4A96C0> 0\n",
      "1 <dict_keyiterator object at 0x0E4A96C0> 1\n",
      "2 <dict_keyiterator object at 0x0E4A96C0> 1\n",
      "3 <dict_keyiterator object at 0x0E4A96C0> 1\n",
      "4 <dict_keyiterator object at 0x0E4A96C0> 2\n",
      "5 <dict_keyiterator object at 0x0E4A96C0> 1\n",
      "6 <dict_keyiterator object at 0x0E4A96C0> 2\n",
      "7 <dict_keyiterator object at 0x0E4A96C0> 3\n",
      "8 <dict_keyiterator object at 0x0E4A96C0> 1\n",
      "9 <dict_keyiterator object at 0x0E4A96C0> 1\n"
     ]
    }
   ],
   "source": [
    "for n in H.nodes():\n",
    "    print(n, H.neighbors(n),H.out_degree(n))"
   ]
  },
  {
   "cell_type": "code",
   "execution_count": 13,
   "metadata": {},
   "outputs": [
    {
     "name": "stdout",
     "output_type": "stream",
     "text": [
      "0 [1, 2, 3, 4, 5, 6, 7, 8, 9]\n",
      "1 [6, 7]\n",
      "2 [4]\n",
      "6 [7]\n"
     ]
    }
   ],
   "source": [
    "## Return all nodes which point to n\n",
    "def looks_at_me(H,n):\n",
    "    return [k for (k,x) in H.edges() if x==n]\n",
    "\n",
    "for n in H.nodes():\n",
    "    if not looks_at_me(H,n)==[]:\n",
    "        print(n, looks_at_me(H,n))"
   ]
  },
  {
   "cell_type": "markdown",
   "metadata": {},
   "source": [
    "**Q5** Use the iterative pagerank calculation in <http://en.wikipedia.org/wiki/PageRank#Iterative>\n",
    "  to create a function `my_pagerank(H,iterations=20)` which calculates the pagerank of each node. The output is, just as with `nx.pagerank()` a dict with nodes as keys and pageranks as values.\n",
    "\n",
    "There are several definitions of PageRank. The most useful is when we can view the distribution of PageRank over the nodes as a probability distribution. This means the values of all nodes have to sum to 1.\n",
    "\n",
    "So after computing the PageRanks, normalize the values, so that they sum to one. The [wikipedia article on pagerank](http://en.wikipedia.org/wiki/PageRank) also makes this point.\n",
    "\n"
   ]
  },
  {
   "cell_type": "code",
   "execution_count": 14,
   "metadata": {},
   "outputs": [],
   "source": [
    "def my_pagerank2(H,iterations=20,damping=.85):\n",
    "    # Initialize every node with a pagerank of 1/|nodes| \n",
    "    pagerank = {i : 1 / len(H.nodes()) for i in H.nodes()}\n",
    "    \n",
    "    # loop over all iterations and nodes\n",
    "    for i in range(iterations):\n",
    "        for node in H.nodes():\n",
    "            \n",
    "            # calculate data to multiply with damping\n",
    "            data = [pagerank[n] / len(looks_at_me(H,n)) for n in looks_at_me(H,node) if not looks_at_me(H,n) == []]\n",
    "            \n",
    "            # adjust pagerank value for each node\n",
    "            pagerank[node] = (1 - damping) * (1 / len(H.nodes)) + damping * (sum(data))\n",
    "    \n",
    "    # return dict with nodes as keys and pageranks as values\n",
    "    return pagerank"
   ]
  },
  {
   "cell_type": "code",
   "execution_count": null,
   "metadata": {},
   "outputs": [],
   "source": []
  },
  {
   "cell_type": "code",
   "execution_count": 15,
   "metadata": {},
   "outputs": [
    {
     "name": "stdout",
     "output_type": "stream",
     "text": [
      "Wall time: 4.66 ms\n"
     ]
    },
    {
     "data": {
      "text/plain": [
       "dict_items([(0, 0.052293750000000014), (1, 0.027750000000000004), (2, 0.015000000000000003), (3, 0.015000000000000003), (4, 0.015000000000000003), (5, 0.015000000000000003), (6, 0.015000000000000003), (7, 0.015000000000000003), (8, 0.015000000000000003), (9, 0.015000000000000003)])"
      ]
     },
     "execution_count": 15,
     "metadata": {},
     "output_type": "execute_result"
    }
   ],
   "source": [
    "% time my_pagerank2(H).items()"
   ]
  },
  {
   "cell_type": "markdown",
   "metadata": {},
   "source": [
    "**Q6**\n",
    "Compare your result and that of networkx  by calculating the maximum squared error (= difference) over the nodes. You may even investigate the effect of the number of iterations on rather large networks.\n",
    "\n",
    " "
   ]
  },
  {
   "cell_type": "code",
   "execution_count": 16,
   "metadata": {},
   "outputs": [
    {
     "data": {
      "text/plain": [
       "{0: 0.39184980933456715,\n",
       " 1: 0.06872078457974035,\n",
       " 2: 0.060172066334125154,\n",
       " 3: 0.037752454557181694,\n",
       " 4: 0.037752454557181694,\n",
       " 5: 0.037752454557181694,\n",
       " 6: 0.052698862408477334,\n",
       " 7: 0.037752454557181694,\n",
       " 8: 0.037752454557181694,\n",
       " 9: 0.037752454557181694}"
      ]
     },
     "execution_count": 16,
     "metadata": {},
     "output_type": "execute_result"
    }
   ],
   "source": [
    "# setting up variables\n",
    "nx_pr = nx.pagerank(H)\n",
    "my_pr = my_pagerank2(H)\n",
    "\n",
    "# calculate mse by subtracting the values of my_pr from the values of nx_pr\n",
    "{x: nx_pr[x] - my_pr[x] for x in my_pr}"
   ]
  },
  {
   "cell_type": "code",
   "execution_count": 18,
   "metadata": {},
   "outputs": [
    {
     "data": {
      "text/plain": [
       "{0: 0.4441435593345672,\n",
       " 1: 0.09647078457974034,\n",
       " 2: 0.07517206633412515,\n",
       " 3: 0.052752454557181694,\n",
       " 4: 0.052752454557181694,\n",
       " 5: 0.052752454557181694,\n",
       " 6: 0.06769886240847733,\n",
       " 7: 0.052752454557181694,\n",
       " 8: 0.052752454557181694,\n",
       " 9: 0.052752454557181694}"
      ]
     },
     "execution_count": 18,
     "metadata": {},
     "output_type": "execute_result"
    }
   ],
   "source": [
    "nx_pr"
   ]
  },
  {
   "cell_type": "markdown",
   "metadata": {},
   "source": [
    "**Q7** Compute the person correlation between your result and that of networkx.\n",
    "* HINT: in the notebook <http://nbviewer.ipython.org/url/maartenmarx.nl/teaching/CollectieveIntelligentie/NoteBooks/InformationRetrieval.ipynb> we created a pandas series from a list, but you can just as easily in the same way create a series from a dict. Then use pandas correlation."
   ]
  },
  {
   "cell_type": "code",
   "execution_count": 25,
   "metadata": {},
   "outputs": [
    {
     "data": {
      "text/plain": [
       "0.90955612348639825"
      ]
     },
     "execution_count": 25,
     "metadata": {},
     "output_type": "execute_result"
    }
   ],
   "source": [
    "import scipy\n",
    "\n",
    "scipy.stats.pearsonr(list(my_pr.values()), list(nx_pr.values()))[0]"
   ]
  },
  {
   "cell_type": "markdown",
   "metadata": {},
   "source": [
    "**Q8** Compare your, hopefully very declarative and short (it can be done in 5 lines of readable code) definition of pagerank with that in the Collective Intelligence book, on page 71. \n",
    "\n",
    "* Do you obtain different values?\n",
    "* Compare readability.\n",
    "* Why would you want to store this information in a database while doing the computation? "
   ]
  },
  {
   "cell_type": "code",
   "execution_count": null,
   "metadata": {},
   "outputs": [],
   "source": []
  }
 ],
 "metadata": {
  "anaconda-cloud": {},
  "kernelspec": {
   "display_name": "Python 3",
   "language": "python",
   "name": "python3"
  },
  "language_info": {
   "codemirror_mode": {
    "name": "ipython",
    "version": 3
   },
   "file_extension": ".py",
   "mimetype": "text/x-python",
   "name": "python",
   "nbconvert_exporter": "python",
   "pygments_lexer": "ipython3",
   "version": "3.6.2"
  }
 },
 "nbformat": 4,
 "nbformat_minor": 1
}
