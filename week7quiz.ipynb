{
 "cells": [
  {
   "cell_type": "markdown",
   "metadata": {},
   "source": [
    "**Q1** Compute the euclidean length of $\\langle 3,4,5\\rangle$, rounded to an integer."
   ]
  },
  {
   "cell_type": "code",
   "execution_count": 1,
   "metadata": {},
   "outputs": [
    {
     "data": {
      "text/plain": [
       "7.0710678118654755"
      ]
     },
     "execution_count": 1,
     "metadata": {},
     "output_type": "execute_result"
    }
   ],
   "source": [
    "import numpy as np\n",
    "import pandas as pd\n",
    "from scipy.spatial import distance\n",
    "\n",
    "a = (3,4,5)\n",
    "distance.euclidean(0,a)"
   ]
  },
  {
   "cell_type": "markdown",
   "metadata": {},
   "source": [
    "**Q2** Compute the cosine similarity of $\\langle 3,4,5\\rangle$ and $\\langle 6,3,2\\rangle$."
   ]
  },
  {
   "cell_type": "code",
   "execution_count": 2,
   "metadata": {},
   "outputs": [
    {
     "data": {
      "text/plain": [
       "0.80812203564176865"
      ]
     },
     "execution_count": 2,
     "metadata": {},
     "output_type": "execute_result"
    }
   ],
   "source": [
    "from scipy import spatial\n",
    "\n",
    "dataSetI = [3, 4, 5]\n",
    "dataSetII = [6, 3, 2]\n",
    "result = 1 - distance.cosine(dataSetI, dataSetII)\n",
    "result"
   ]
  },
  {
   "cell_type": "markdown",
   "metadata": {},
   "source": [
    "**Q3** Adomovicius 2005 gives in formula 10b a definition of $r_{c,s}$ (the estimated rating of item $s$ for user $c$), in which the rating's of the neighbours of $c$ (which are collected in the set $C$), weighted by their similarity to $c$.  Give the exact formula. Do not forget to normalize."
   ]
  },
  {
   "cell_type": "markdown",
   "metadata": {},
   "source": [
    "wtf"
   ]
  },
  {
   "cell_type": "markdown",
   "metadata": {},
   "source": [
    "**Q4**  Write a function `shorten(text, n)` to process a text, omitting the n most frequently occurring words of the text. \n",
    "* How readable is it?\n",
    "* Give the steps, and write your program completely declaratively, with one line of code for each step"
   ]
  },
  {
   "cell_type": "markdown",
   "metadata": {},
   "source": [
    "1. tokenize\n",
    "2. use the `Counter` method to count\n",
    "3. use the `most_common(n)` method of Counter object\n",
    "4. remove unwanted words using list comprehension\n",
    "5. turn into a text again by `' '.join()`"
   ]
  },
  {
   "cell_type": "code",
   "execution_count": 3,
   "metadata": {},
   "outputs": [
    {
     "data": {
      "text/plain": [
       "'ur mom gay lmao'"
      ]
     },
     "execution_count": 3,
     "metadata": {},
     "output_type": "execute_result"
    }
   ],
   "source": [
    "import nltk\n",
    "from collections import Counter\n",
    "\n",
    "def shorten(text, n):\n",
    "    # tokenize\n",
    "    tokenizer = nltk.tokenize.RegexpTokenizer(r'\\w+')\n",
    "    tokens = tokenizer.tokenize(text.lower())\n",
    "    \n",
    "    # Counter & most_common\n",
    "    countdict = Counter(tokens)\n",
    "    popular = countdict.most_common(n)\n",
    "    \n",
    "    # remove unwanted words\n",
    "    delete = [key for key, value in popular]\n",
    "    result = [i for i in tokens if i not in delete]\n",
    "    \n",
    "    # return text\n",
    "    result =\" \".join(result)\n",
    "    return result\n",
    "\n",
    "text = \"xd xd xd xd xd ur xd xd xd xd mom xd xd xd xd xd xd gay xd xd xd xd xd xd lmao\"\n",
    "shorten(text,1)"
   ]
  },
  {
   "cell_type": "markdown",
   "metadata": {},
   "source": [
    "**Q5** Write a function that takes a list of words (containing duplicates) and returns a list of words (with no duplicates) sorted by decreasing frequency. \n",
    "\n",
    "E.g. if the input list contained 10 instances of the word table and 9 instances of the word chair, then table would appear before chair in the output list."
   ]
  },
  {
   "cell_type": "code",
   "execution_count": 4,
   "metadata": {},
   "outputs": [
    {
     "data": {
      "text/plain": [
       "['apple', 'hello', 'banana']"
      ]
     },
     "execution_count": 4,
     "metadata": {},
     "output_type": "execute_result"
    }
   ],
   "source": [
    "words1 = [\"table\",\"table\",\"table\",\"table\",\"table\",\"table\",\"table\",\"table\",\"table\",\"table\",\"chair\",\"chair\",\"chair\",\"chair\",\"chair\",\"chair\",\"chair\",\"chair\",\"chair\"]\n",
    "words = [\"hello\", \"apple\", \"banana\", \"apple\", \"hello\", \"apple\"]\n",
    "\n",
    "def wordfreq(words):\n",
    "    freqdict = Counter(words)\n",
    "    freq = freqdict.most_common(len(freqdict))\n",
    "    return [key for key,value in freq]\n",
    "\n",
    "wordfreq(words)"
   ]
  },
  {
   "cell_type": "markdown",
   "metadata": {},
   "source": [
    "**Q6** The following code from the CI book actually programs the function from **Q3**. Refactor this code into much more readable declarative code. You may assum you have a function `sim(p1,p2)` which computes the similarity between two persons, and a function `neighbours(p)` which picks out the closest neighbours of `p`.  You may also assume that `prefs` is a global variable. \n",
    "\n",
    "\n",
    "```\n",
    "# Gets recommendations for a person by using a weighted average\n",
    "# of every other user's rankings\n",
    "def getRecommendations(prefs,person,similarity=sim_pearson):\n",
    "  totals={}\n",
    "  simSums={}\n",
    "  for other in prefs:\n",
    "    # don't compare me to myself\n",
    "    if other==person: continue\n",
    "    sim=similarity(prefs,person,other)\n",
    "\n",
    "    # ignore scores of zero or lower\n",
    "    if sim<=0: continue\n",
    "    for item in prefs[other]:\n",
    "\t    \n",
    "      # only score movies I haven't seen yet\n",
    "      if item not in prefs[person] or prefs[person][item]==0:\n",
    "        # Similarity * Score\n",
    "        totals.setdefault(item,0)\n",
    "        totals[item]+=prefs[other][item]*sim\n",
    "        # Sum of similarities\n",
    "        simSums.setdefault(item,0)\n",
    "        simSums[item]+=sim\n",
    "\n",
    "  # Create the normalized list\n",
    "  rankings=[(total/simSums[item],item) for item,total in totals.items()]\n",
    "\n",
    "  # Return the sorted list\n",
    "  rankings.sort()\n",
    "  rankings.reverse()\n",
    "  return rankings\n",
    "```"
   ]
  },
  {
   "cell_type": "code",
   "execution_count": 5,
   "metadata": {},
   "outputs": [],
   "source": [
    "def rating(c,s):\n",
    "    # this must be defined\n",
    "    C = neighbours(c)\n",
    "    simsum= sum(sim(c,d) for d in C)\n",
    "    weighted_estimate= sum (sim(c,d)*prefs[d][s] for d in C)\n",
    "    return weighted_estimate / simsum\n",
    "\n",
    "def getRecommendations(person):\n",
    "    all_items= set([i for person in prefs for i in prefs[person]])\n",
    "    estimates = [(rating(person,s),s) for s in all_items]\n",
    "    estimates.sort(reverse=True)\n",
    "    \n",
    "    # only return not rated items\n",
    "    return [pair for pair in estimates if pair[1] not in prefs[person] or prefs[person][pair[1]]==0 ]    "
   ]
  },
  {
   "cell_type": "markdown",
   "metadata": {},
   "source": [
    "**Q7** Here we test your recursive thinking. Consider the following code\n",
    "\n",
    "```\n",
    "def boom(n):  # n must be an integer\n",
    "    if n==0:\n",
    "        return []\n",
    "    else:\n",
    "        return [boom(n-1),boom(n-1)]\n",
    "```\n",
    "\n",
    "1. Give the exact output produced by \n",
    "```\n",
    "for n in range(4):\n",
    "    print boom(n)\n",
    "```"
   ]
  },
  {
   "cell_type": "code",
   "execution_count": 6,
   "metadata": {},
   "outputs": [
    {
     "name": "stdout",
     "output_type": "stream",
     "text": [
      "[]\n",
      "[[], []]\n",
      "[[[], []], [[], []]]\n",
      "[[[[], []], [[], []]], [[[], []], [[], []]]]\n"
     ]
    }
   ],
   "source": [
    "def boom(n):\n",
    "    if n == 0:\n",
    "        return []\n",
    "    else:\n",
    "        return [boom(n-1),boom(n-1)]\n",
    "    \n",
    "for n in range(4):\n",
    "    print(boom(n))"
   ]
  },
  {
   "cell_type": "markdown",
   "metadata": {},
   "source": [
    "* n==0: 1\n",
    "* n==1: 2\n",
    "* n==2: 4\n",
    "* n==3: 8\n",
    "#### 2^n == aantal lege lijsten\n"
   ]
  },
  {
   "cell_type": "markdown",
   "metadata": {},
   "source": [
    "3. Rewrite the defnition of `boom(n)` in such a way that it does not use recursion"
   ]
  },
  {
   "cell_type": "code",
   "execution_count": 7,
   "metadata": {},
   "outputs": [
    {
     "name": "stdout",
     "output_type": "stream",
     "text": [
      "[]\n",
      "[[], []]\n",
      "[[[], []], [[], []]]\n",
      "[[[[], []], [[], []]], [[[], []], [[], []]]]\n",
      "[[[[[], []], [[], []]], [[[], []], [[], []]]], [[[[], []], [[], []]], [[[], []], [[], []]]]]\n"
     ]
    },
    {
     "data": {
      "text/plain": [
       "[[[[[], []], [[], []]], [[[], []], [[], []]]],\n",
       " [[[[], []], [[], []]], [[[], []], [[], []]]]]"
      ]
     },
     "execution_count": 7,
     "metadata": {},
     "output_type": "execute_result"
    }
   ],
   "source": [
    "def boom_it(n):\n",
    "    boom = []\n",
    "    if n == 0:\n",
    "        True\n",
    "    else:\n",
    "        for i in range(0,n):\n",
    "            boom = [boom,boom]\n",
    "    return boom\n",
    "\n",
    "for n in range(5):\n",
    "    print(boom_it(n))\n",
    "\n",
    "boom_it(4)"
   ]
  },
  {
   "cell_type": "markdown",
   "metadata": {},
   "source": [
    "**Q8** Give examples of both intrinsic and extrinsic evidence that search engines use to rank their results."
   ]
  },
  {
   "cell_type": "markdown",
   "metadata": {},
   "source": [
    "zie slides week 7"
   ]
  },
  {
   "cell_type": "code",
   "execution_count": 8,
   "metadata": {},
   "outputs": [
    {
     "name": "stdout",
     "output_type": "stream",
     "text": [
      "[]\n",
      "[[], []]\n",
      "[[[], []], [[], []]]\n",
      "[[[[], []], [[], []]], [[[], []], [[], []]]]\n",
      "[[[[[], []], [[], []]], [[[], []], [[], []]]], [[[[], []], [[], []]], [[[], []], [[], []]]]]\n"
     ]
    }
   ],
   "source": [
    "def boom2(n):\n",
    "    boom = []\n",
    "    if n == 0:\n",
    "        pass\n",
    "    else:\n",
    "        for i in range(n):\n",
    "            boom = [boom,boom]\n",
    "    return boom\n",
    "        \n",
    "for i in range(5):\n",
    "    print(boom2(i))"
   ]
  },
  {
   "cell_type": "code",
   "execution_count": null,
   "metadata": {},
   "outputs": [],
   "source": []
  }
 ],
 "metadata": {
  "kernelspec": {
   "display_name": "Python 3",
   "language": "python",
   "name": "python3"
  },
  "language_info": {
   "codemirror_mode": {
    "name": "ipython",
    "version": 3
   },
   "file_extension": ".py",
   "mimetype": "text/x-python",
   "name": "python",
   "nbconvert_exporter": "python",
   "pygments_lexer": "ipython3",
   "version": "3.6.2"
  }
 },
 "nbformat": 4,
 "nbformat_minor": 2
}
