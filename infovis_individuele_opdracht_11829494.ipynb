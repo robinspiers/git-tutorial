{
 "cells": [
  {
   "cell_type": "markdown",
   "metadata": {},
   "source": [
    "# Opdracht gemaakt door Robin Spiers\n",
    "## UvA ID: 11829494"
   ]
  },
  {
   "cell_type": "markdown",
   "metadata": {},
   "source": [
    "# Informatievisualisatie - Individuele opdracht\n",
    "\n",
    "Het doel van deze **individuele** opdracht is om een aantal plot.ly visualisaties te maken op basis van data uit csv bestanden. De opdrachtbeschrijving begint met een voorbeeld over hoe je data kan inladen en vervolgens visualiseren, vervolgens zijn er **drie** opdrachten waarvoor je een visualisatie moet maken.\n",
    "\n",
    "Het eerste aanspreekpunt voor vragen over de opdracht is de studentassistent verantwoordelijk voor jouw groep.\n",
    "\n",
    "|  Naam | E-mail | Groep |\n",
    "| ---------------------------- | --------- | ------------|\n",
    "| Sander Siepel | sander.siepel@student.uva.nl | A |\n",
    "| Sarah Ibrahimi | s.ibrahimi@uva.nl | B |\n",
    "\n",
    "**Deadline: 12 juni 23:59 CEST**\n",
    "\n",
    "Inleveren op Blackboard. Lever alleen het .ipynb bestand in, zonder de CSV bestanden of de plaatjes.\n",
    "\n",
    "**Let op:** Zorg dat alles werkt als de kernel opnieuw gestart is. Dit kan je testen door in het menu bovenaan `Kernel` > `Restart & Run All` te kiezen.\n",
    "\n",
    "## Installatie\n",
    "\n",
    "Voor deze opdracht heb je plotly en pandas nodig, hieronder installatieinstructies voor deze packages met en zonder Anaconda.\n",
    "\n",
    "*Met Anaconda:*\n",
    "\n",
    "`conda install -c plotly plotly`\n",
    "\n",
    "`conda install pandas`\n",
    "\n",
    "*Zonder Anaconda:*\n",
    "\n",
    "`pip install plotly`\n",
    "\n",
    "`pip install pandas`"
   ]
  },
  {
   "cell_type": "markdown",
   "metadata": {},
   "source": [
    "## Voorbeeld\n",
    "\n",
    "Om dit voorbeeld en opdracht 1 te kunnen maken heb je `marriage.csv` nodig. \n",
    "\n",
    "Dit bestand bevat de cijfers voor het percentage *niet* getrouwde mensen in de VS tussen de 25 en 34. Dit bestand is een subset van de `both_sexes.csv` dataset van [FiveThirtyEight](http://fivethirtyeight.com/), publiek beschikbaar in hun Github repository: https://github.com/fivethirtyeight/data/tree/master/marriage."
   ]
  },
  {
   "cell_type": "code",
   "execution_count": 1,
   "metadata": {},
   "outputs": [
    {
     "data": {
      "text/html": [
       "<script>requirejs.config({paths: { 'plotly': ['https://cdn.plot.ly/plotly-latest.min']},});if(!window.Plotly) {{require(['plotly'],function(plotly) {window.Plotly=plotly;});}}</script>"
      ],
      "text/vnd.plotly.v1+html": [
       "<script>requirejs.config({paths: { 'plotly': ['https://cdn.plot.ly/plotly-latest.min']},});if(!window.Plotly) {{require(['plotly'],function(plotly) {window.Plotly=plotly;});}}</script>"
      ]
     },
     "metadata": {},
     "output_type": "display_data"
    }
   ],
   "source": [
    "# Deze cell importeert een aantal functies en modules \n",
    "# die je nodig hebt om deze opdracht te maken.\n",
    "\n",
    "from plotly.offline import init_notebook_mode, iplot\n",
    "import plotly.graph_objs as go\n",
    "\n",
    "# Start notebook mode\n",
    "init_notebook_mode(connected=True)\n",
    "\n",
    "# pandas om de CSV data te laden en te visualiseren\n",
    "import pandas as pd "
   ]
  },
  {
   "cell_type": "markdown",
   "metadata": {},
   "source": [
    "Om het csv bestand in te lezen gebruiken we de `read_csv` functie vanuit pandas. Deze functie leest de csv in en maakt er een pandas dataframe van. Een dataframe maakt het makkelijk om de data te bekijken en te verwerken.\n",
    "\n",
    "Met de `head()` methode kunnen we bijvoorbeeld de eerste `n` rijen tonen van de csv."
   ]
  },
  {
   "cell_type": "code",
   "execution_count": 2,
   "metadata": {},
   "outputs": [
    {
     "data": {
      "text/html": [
       "<div>\n",
       "<style>\n",
       "    .dataframe thead tr:only-child th {\n",
       "        text-align: right;\n",
       "    }\n",
       "\n",
       "    .dataframe thead th {\n",
       "        text-align: left;\n",
       "    }\n",
       "\n",
       "    .dataframe tbody tr th {\n",
       "        vertical-align: top;\n",
       "    }\n",
       "</style>\n",
       "<table border=\"1\" class=\"dataframe\">\n",
       "  <thead>\n",
       "    <tr style=\"text-align: right;\">\n",
       "      <th></th>\n",
       "      <th>year</th>\n",
       "      <th>all</th>\n",
       "      <th>HS</th>\n",
       "      <th>SC</th>\n",
       "      <th>BAp</th>\n",
       "      <th>BAo</th>\n",
       "      <th>GD</th>\n",
       "      <th>White</th>\n",
       "      <th>Black</th>\n",
       "      <th>Hisp</th>\n",
       "      <th>NE</th>\n",
       "      <th>MA</th>\n",
       "      <th>Midwest</th>\n",
       "      <th>South</th>\n",
       "      <th>Mountain</th>\n",
       "      <th>Pacific</th>\n",
       "      <th>poor</th>\n",
       "      <th>mid</th>\n",
       "      <th>rich</th>\n",
       "    </tr>\n",
       "  </thead>\n",
       "  <tbody>\n",
       "    <tr>\n",
       "      <th>0</th>\n",
       "      <td>1960</td>\n",
       "      <td>0.123314</td>\n",
       "      <td>0.109533</td>\n",
       "      <td>0.152282</td>\n",
       "      <td>0.238995</td>\n",
       "      <td>0.238995</td>\n",
       "      <td>0.000000</td>\n",
       "      <td>0.116485</td>\n",
       "      <td>0.162186</td>\n",
       "      <td>0.139374</td>\n",
       "      <td>0.150418</td>\n",
       "      <td>0.162893</td>\n",
       "      <td>0.112147</td>\n",
       "      <td>0.109056</td>\n",
       "      <td>0.091521</td>\n",
       "      <td>0.119876</td>\n",
       "      <td>0.137160</td>\n",
       "      <td>0.075149</td>\n",
       "      <td>0.206678</td>\n",
       "    </tr>\n",
       "    <tr>\n",
       "      <th>1</th>\n",
       "      <td>1970</td>\n",
       "      <td>0.126971</td>\n",
       "      <td>0.109400</td>\n",
       "      <td>0.149510</td>\n",
       "      <td>0.218703</td>\n",
       "      <td>0.218703</td>\n",
       "      <td>0.000000</td>\n",
       "      <td>0.117904</td>\n",
       "      <td>0.185516</td>\n",
       "      <td>0.129877</td>\n",
       "      <td>0.151723</td>\n",
       "      <td>0.164068</td>\n",
       "      <td>0.115374</td>\n",
       "      <td>0.112622</td>\n",
       "      <td>0.102936</td>\n",
       "      <td>0.137496</td>\n",
       "      <td>0.171720</td>\n",
       "      <td>0.081592</td>\n",
       "      <td>0.172409</td>\n",
       "    </tr>\n",
       "    <tr>\n",
       "      <th>2</th>\n",
       "      <td>1980</td>\n",
       "      <td>0.199177</td>\n",
       "      <td>0.161731</td>\n",
       "      <td>0.223692</td>\n",
       "      <td>0.288165</td>\n",
       "      <td>0.288165</td>\n",
       "      <td>0.000000</td>\n",
       "      <td>0.182413</td>\n",
       "      <td>0.313750</td>\n",
       "      <td>0.188544</td>\n",
       "      <td>0.241433</td>\n",
       "      <td>0.250593</td>\n",
       "      <td>0.182834</td>\n",
       "      <td>0.168844</td>\n",
       "      <td>0.174342</td>\n",
       "      <td>0.233428</td>\n",
       "      <td>0.310059</td>\n",
       "      <td>0.148253</td>\n",
       "      <td>0.185108</td>\n",
       "    </tr>\n",
       "    <tr>\n",
       "      <th>3</th>\n",
       "      <td>1990</td>\n",
       "      <td>0.296831</td>\n",
       "      <td>0.277749</td>\n",
       "      <td>0.278091</td>\n",
       "      <td>0.361297</td>\n",
       "      <td>0.365665</td>\n",
       "      <td>0.347451</td>\n",
       "      <td>0.263926</td>\n",
       "      <td>0.483856</td>\n",
       "      <td>0.296237</td>\n",
       "      <td>0.350038</td>\n",
       "      <td>0.362332</td>\n",
       "      <td>0.275505</td>\n",
       "      <td>0.263979</td>\n",
       "      <td>0.252643</td>\n",
       "      <td>0.331958</td>\n",
       "      <td>0.419911</td>\n",
       "      <td>0.243200</td>\n",
       "      <td>0.278323</td>\n",
       "    </tr>\n",
       "    <tr>\n",
       "      <th>4</th>\n",
       "      <td>2000</td>\n",
       "      <td>0.345009</td>\n",
       "      <td>0.331655</td>\n",
       "      <td>0.324921</td>\n",
       "      <td>0.387491</td>\n",
       "      <td>0.393958</td>\n",
       "      <td>0.369174</td>\n",
       "      <td>0.312715</td>\n",
       "      <td>0.514499</td>\n",
       "      <td>0.318068</td>\n",
       "      <td>0.409185</td>\n",
       "      <td>0.417557</td>\n",
       "      <td>0.330802</td>\n",
       "      <td>0.309971</td>\n",
       "      <td>0.306210</td>\n",
       "      <td>0.375306</td>\n",
       "      <td>0.503368</td>\n",
       "      <td>0.302020</td>\n",
       "      <td>0.271739</td>\n",
       "    </tr>\n",
       "    <tr>\n",
       "      <th>5</th>\n",
       "      <td>2001</td>\n",
       "      <td>0.352777</td>\n",
       "      <td>0.344607</td>\n",
       "      <td>0.334110</td>\n",
       "      <td>0.383569</td>\n",
       "      <td>0.392515</td>\n",
       "      <td>0.359030</td>\n",
       "      <td>0.318351</td>\n",
       "      <td>0.543798</td>\n",
       "      <td>0.332121</td>\n",
       "      <td>0.420058</td>\n",
       "      <td>0.429428</td>\n",
       "      <td>0.334433</td>\n",
       "      <td>0.318269</td>\n",
       "      <td>0.309808</td>\n",
       "      <td>0.384480</td>\n",
       "      <td>0.517877</td>\n",
       "      <td>0.317161</td>\n",
       "      <td>0.253204</td>\n",
       "    </tr>\n",
       "    <tr>\n",
       "      <th>6</th>\n",
       "      <td>2002</td>\n",
       "      <td>0.353525</td>\n",
       "      <td>0.349037</td>\n",
       "      <td>0.336160</td>\n",
       "      <td>0.377433</td>\n",
       "      <td>0.387084</td>\n",
       "      <td>0.351285</td>\n",
       "      <td>0.319669</td>\n",
       "      <td>0.540398</td>\n",
       "      <td>0.331261</td>\n",
       "      <td>0.407804</td>\n",
       "      <td>0.429053</td>\n",
       "      <td>0.339704</td>\n",
       "      <td>0.323028</td>\n",
       "      <td>0.296866</td>\n",
       "      <td>0.383692</td>\n",
       "      <td>0.517425</td>\n",
       "      <td>0.318240</td>\n",
       "      <td>0.253472</td>\n",
       "    </tr>\n",
       "    <tr>\n",
       "      <th>7</th>\n",
       "      <td>2003</td>\n",
       "      <td>0.362035</td>\n",
       "      <td>0.358188</td>\n",
       "      <td>0.341893</td>\n",
       "      <td>0.387381</td>\n",
       "      <td>0.400004</td>\n",
       "      <td>0.353813</td>\n",
       "      <td>0.325681</td>\n",
       "      <td>0.556895</td>\n",
       "      <td>0.341751</td>\n",
       "      <td>0.431192</td>\n",
       "      <td>0.447992</td>\n",
       "      <td>0.347571</td>\n",
       "      <td>0.325014</td>\n",
       "      <td>0.310719</td>\n",
       "      <td>0.394690</td>\n",
       "      <td>0.529728</td>\n",
       "      <td>0.328232</td>\n",
       "      <td>0.251606</td>\n",
       "    </tr>\n",
       "    <tr>\n",
       "      <th>8</th>\n",
       "      <td>2004</td>\n",
       "      <td>0.367325</td>\n",
       "      <td>0.370810</td>\n",
       "      <td>0.345075</td>\n",
       "      <td>0.384736</td>\n",
       "      <td>0.397612</td>\n",
       "      <td>0.351773</td>\n",
       "      <td>0.330628</td>\n",
       "      <td>0.572402</td>\n",
       "      <td>0.348579</td>\n",
       "      <td>0.449085</td>\n",
       "      <td>0.449402</td>\n",
       "      <td>0.352380</td>\n",
       "      <td>0.334153</td>\n",
       "      <td>0.310789</td>\n",
       "      <td>0.397215</td>\n",
       "      <td>0.536758</td>\n",
       "      <td>0.335613</td>\n",
       "      <td>0.252254</td>\n",
       "    </tr>\n",
       "    <tr>\n",
       "      <th>9</th>\n",
       "      <td>2005</td>\n",
       "      <td>0.379345</td>\n",
       "      <td>0.387068</td>\n",
       "      <td>0.359666</td>\n",
       "      <td>0.388610</td>\n",
       "      <td>0.402912</td>\n",
       "      <td>0.351425</td>\n",
       "      <td>0.343876</td>\n",
       "      <td>0.575173</td>\n",
       "      <td>0.358954</td>\n",
       "      <td>0.450972</td>\n",
       "      <td>0.463851</td>\n",
       "      <td>0.362480</td>\n",
       "      <td>0.347382</td>\n",
       "      <td>0.341278</td>\n",
       "      <td>0.403881</td>\n",
       "      <td>0.551922</td>\n",
       "      <td>0.347668</td>\n",
       "      <td>0.262045</td>\n",
       "    </tr>\n",
       "  </tbody>\n",
       "</table>\n",
       "</div>"
      ],
      "text/plain": [
       "   year       all        HS        SC       BAp       BAo        GD     White  \\\n",
       "0  1960  0.123314  0.109533  0.152282  0.238995  0.238995  0.000000  0.116485   \n",
       "1  1970  0.126971  0.109400  0.149510  0.218703  0.218703  0.000000  0.117904   \n",
       "2  1980  0.199177  0.161731  0.223692  0.288165  0.288165  0.000000  0.182413   \n",
       "3  1990  0.296831  0.277749  0.278091  0.361297  0.365665  0.347451  0.263926   \n",
       "4  2000  0.345009  0.331655  0.324921  0.387491  0.393958  0.369174  0.312715   \n",
       "5  2001  0.352777  0.344607  0.334110  0.383569  0.392515  0.359030  0.318351   \n",
       "6  2002  0.353525  0.349037  0.336160  0.377433  0.387084  0.351285  0.319669   \n",
       "7  2003  0.362035  0.358188  0.341893  0.387381  0.400004  0.353813  0.325681   \n",
       "8  2004  0.367325  0.370810  0.345075  0.384736  0.397612  0.351773  0.330628   \n",
       "9  2005  0.379345  0.387068  0.359666  0.388610  0.402912  0.351425  0.343876   \n",
       "\n",
       "      Black      Hisp        NE        MA   Midwest     South  Mountain  \\\n",
       "0  0.162186  0.139374  0.150418  0.162893  0.112147  0.109056  0.091521   \n",
       "1  0.185516  0.129877  0.151723  0.164068  0.115374  0.112622  0.102936   \n",
       "2  0.313750  0.188544  0.241433  0.250593  0.182834  0.168844  0.174342   \n",
       "3  0.483856  0.296237  0.350038  0.362332  0.275505  0.263979  0.252643   \n",
       "4  0.514499  0.318068  0.409185  0.417557  0.330802  0.309971  0.306210   \n",
       "5  0.543798  0.332121  0.420058  0.429428  0.334433  0.318269  0.309808   \n",
       "6  0.540398  0.331261  0.407804  0.429053  0.339704  0.323028  0.296866   \n",
       "7  0.556895  0.341751  0.431192  0.447992  0.347571  0.325014  0.310719   \n",
       "8  0.572402  0.348579  0.449085  0.449402  0.352380  0.334153  0.310789   \n",
       "9  0.575173  0.358954  0.450972  0.463851  0.362480  0.347382  0.341278   \n",
       "\n",
       "    Pacific      poor       mid      rich  \n",
       "0  0.119876  0.137160  0.075149  0.206678  \n",
       "1  0.137496  0.171720  0.081592  0.172409  \n",
       "2  0.233428  0.310059  0.148253  0.185108  \n",
       "3  0.331958  0.419911  0.243200  0.278323  \n",
       "4  0.375306  0.503368  0.302020  0.271739  \n",
       "5  0.384480  0.517877  0.317161  0.253204  \n",
       "6  0.383692  0.517425  0.318240  0.253472  \n",
       "7  0.394690  0.529728  0.328232  0.251606  \n",
       "8  0.397215  0.536758  0.335613  0.252254  \n",
       "9  0.403881  0.551922  0.347668  0.262045  "
      ]
     },
     "execution_count": 2,
     "metadata": {},
     "output_type": "execute_result"
    }
   ],
   "source": [
    "df = pd.read_csv('marriage.csv')\n",
    "\n",
    "df.head(n=10) # eerste 10 van de in totaal 17 rijen"
   ]
  },
  {
   "cell_type": "markdown",
   "metadata": {},
   "source": [
    "Vervolgens kunnen we bepaalde kolommen selecteren met een syntax die vergelijkbaar is als voor python dictionaries. `df['year']` geeft dus de eerste kolom terug.\n",
    "\n",
    "Op deze manier kunnen we gemakkelijk data selecteren en deze visualiseren met plot.ly. In de volgende cel een voorbeeld van een bar chart op basis van de `year` kolom en de `all` kolom, oftewel het totaal percentage mensen tussen de 25 en 34 wat **niet** getrouwd is."
   ]
  },
  {
   "cell_type": "code",
   "execution_count": 3,
   "metadata": {},
   "outputs": [
    {
     "data": {
      "application/vnd.plotly.v1+json": {
       "data": [
        {
         "type": "bar",
         "x": [
          1960,
          1970,
          1980,
          1990,
          2000,
          2001,
          2002,
          2003,
          2004,
          2005,
          2006,
          2007,
          2008,
          2009,
          2010,
          2011,
          2012
         ],
         "y": [
          0.12331447397610501,
          0.126971470328779,
          0.199176741241349,
          0.296830590269693,
          0.345008723583384,
          0.35277670673048994,
          0.353524927592574,
          0.36203450698646905,
          0.367324709729713,
          0.37934513779596096,
          0.4147655670764989,
          0.42692218086458206,
          0.439441397975448,
          0.46256380916368894,
          0.469733166066647,
          0.483333548346415,
          0.494345325640416
         ]
        }
       ],
       "layout": {}
      },
      "text/html": [
       "<div id=\"cb56e358-d40c-45ba-8df8-316c9e4fb4e6\" style=\"height: 525px; width: 100%;\" class=\"plotly-graph-div\"></div><script type=\"text/javascript\">require([\"plotly\"], function(Plotly) { window.PLOTLYENV=window.PLOTLYENV || {};window.PLOTLYENV.BASE_URL=\"https://plot.ly\";Plotly.newPlot(\"cb56e358-d40c-45ba-8df8-316c9e4fb4e6\", [{\"type\": \"bar\", \"x\": [1960, 1970, 1980, 1990, 2000, 2001, 2002, 2003, 2004, 2005, 2006, 2007, 2008, 2009, 2010, 2011, 2012], \"y\": [0.12331447397610501, 0.126971470328779, 0.199176741241349, 0.296830590269693, 0.345008723583384, 0.35277670673048994, 0.353524927592574, 0.36203450698646905, 0.367324709729713, 0.37934513779596096, 0.4147655670764989, 0.42692218086458206, 0.439441397975448, 0.46256380916368894, 0.469733166066647, 0.483333548346415, 0.494345325640416]}], {}, {\"showLink\": true, \"linkText\": \"Export to plot.ly\"})});</script>"
      ],
      "text/vnd.plotly.v1+html": [
       "<div id=\"cb56e358-d40c-45ba-8df8-316c9e4fb4e6\" style=\"height: 525px; width: 100%;\" class=\"plotly-graph-div\"></div><script type=\"text/javascript\">require([\"plotly\"], function(Plotly) { window.PLOTLYENV=window.PLOTLYENV || {};window.PLOTLYENV.BASE_URL=\"https://plot.ly\";Plotly.newPlot(\"cb56e358-d40c-45ba-8df8-316c9e4fb4e6\", [{\"type\": \"bar\", \"x\": [1960, 1970, 1980, 1990, 2000, 2001, 2002, 2003, 2004, 2005, 2006, 2007, 2008, 2009, 2010, 2011, 2012], \"y\": [0.12331447397610501, 0.126971470328779, 0.199176741241349, 0.296830590269693, 0.345008723583384, 0.35277670673048994, 0.353524927592574, 0.36203450698646905, 0.367324709729713, 0.37934513779596096, 0.4147655670764989, 0.42692218086458206, 0.439441397975448, 0.46256380916368894, 0.469733166066647, 0.483333548346415, 0.494345325640416]}], {}, {\"showLink\": true, \"linkText\": \"Export to plot.ly\"})});</script>"
      ]
     },
     "metadata": {},
     "output_type": "display_data"
    }
   ],
   "source": [
    "trace = go.Bar(\n",
    "    x=df['year'],\n",
    "    y=df['all']\n",
    ")\n",
    "iplot([trace])"
   ]
  },
  {
   "cell_type": "markdown",
   "metadata": {},
   "source": [
    "Er vallen direct een aantal zaken op als we naar de bovenstaande bar chart kijken. Ten eerste is er een 'vreemde' verdeling van de bars, maar als we naar de data kijken zien we dat dit klopt, maar wellicht niet heel mooi is. \n",
    "\n",
    "Daarnaast valt wellicht ook op dat de schaal van de y-as niet duidelijk maakt dat het een percentage is. Deze zaken kunnen we beide oplossen. Voor de x-as kunnen we aangeven dat het een categorische as is, in plaats van een schaal. Voor de y-as kunnen we het tonen als een percentage. Hieronder de code om dit te doen."
   ]
  },
  {
   "cell_type": "code",
   "execution_count": 4,
   "metadata": {},
   "outputs": [
    {
     "data": {
      "application/vnd.plotly.v1+json": {
       "data": [
        {
         "type": "bar",
         "x": [
          1960,
          1970,
          1980,
          1990,
          2000,
          2001,
          2002,
          2003,
          2004,
          2005,
          2006,
          2007,
          2008,
          2009,
          2010,
          2011,
          2012
         ],
         "y": [
          0.12331447397610501,
          0.126971470328779,
          0.199176741241349,
          0.296830590269693,
          0.345008723583384,
          0.35277670673048994,
          0.353524927592574,
          0.36203450698646905,
          0.367324709729713,
          0.37934513779596096,
          0.4147655670764989,
          0.42692218086458206,
          0.439441397975448,
          0.46256380916368894,
          0.469733166066647,
          0.483333548346415,
          0.494345325640416
         ]
        }
       ],
       "layout": {
        "xaxis": {
         "type": "category"
        },
        "yaxis": {
         "tickformat": ",.0%"
        }
       }
      },
      "text/html": [
       "<div id=\"b46c7f41-20f3-45fd-997c-ebaddc21a856\" style=\"height: 525px; width: 100%;\" class=\"plotly-graph-div\"></div><script type=\"text/javascript\">require([\"plotly\"], function(Plotly) { window.PLOTLYENV=window.PLOTLYENV || {};window.PLOTLYENV.BASE_URL=\"https://plot.ly\";Plotly.newPlot(\"b46c7f41-20f3-45fd-997c-ebaddc21a856\", [{\"type\": \"bar\", \"x\": [1960, 1970, 1980, 1990, 2000, 2001, 2002, 2003, 2004, 2005, 2006, 2007, 2008, 2009, 2010, 2011, 2012], \"y\": [0.12331447397610501, 0.126971470328779, 0.199176741241349, 0.296830590269693, 0.345008723583384, 0.35277670673048994, 0.353524927592574, 0.36203450698646905, 0.367324709729713, 0.37934513779596096, 0.4147655670764989, 0.42692218086458206, 0.439441397975448, 0.46256380916368894, 0.469733166066647, 0.483333548346415, 0.494345325640416]}], {\"xaxis\": {\"type\": \"category\"}, \"yaxis\": {\"tickformat\": \",.0%\"}}, {\"showLink\": true, \"linkText\": \"Export to plot.ly\"})});</script>"
      ],
      "text/vnd.plotly.v1+html": [
       "<div id=\"b46c7f41-20f3-45fd-997c-ebaddc21a856\" style=\"height: 525px; width: 100%;\" class=\"plotly-graph-div\"></div><script type=\"text/javascript\">require([\"plotly\"], function(Plotly) { window.PLOTLYENV=window.PLOTLYENV || {};window.PLOTLYENV.BASE_URL=\"https://plot.ly\";Plotly.newPlot(\"b46c7f41-20f3-45fd-997c-ebaddc21a856\", [{\"type\": \"bar\", \"x\": [1960, 1970, 1980, 1990, 2000, 2001, 2002, 2003, 2004, 2005, 2006, 2007, 2008, 2009, 2010, 2011, 2012], \"y\": [0.12331447397610501, 0.126971470328779, 0.199176741241349, 0.296830590269693, 0.345008723583384, 0.35277670673048994, 0.353524927592574, 0.36203450698646905, 0.367324709729713, 0.37934513779596096, 0.4147655670764989, 0.42692218086458206, 0.439441397975448, 0.46256380916368894, 0.469733166066647, 0.483333548346415, 0.494345325640416]}], {\"xaxis\": {\"type\": \"category\"}, \"yaxis\": {\"tickformat\": \",.0%\"}}, {\"showLink\": true, \"linkText\": \"Export to plot.ly\"})});</script>"
      ]
     },
     "metadata": {},
     "output_type": "display_data"
    }
   ],
   "source": [
    "# Maak een layout object aan waarin de specificaties staan voor de X en Y assen.\n",
    "layout = go.Layout(\n",
    "    xaxis=go.XAxis(\n",
    "        type='category' # het type van de X as is categorisch\n",
    "    ),\n",
    "    yaxis = go.YAxis(\n",
    "        tickformat = ',.0%', # toon als percentage\n",
    "    )\n",
    ")\n",
    "\n",
    "data = go.Data([trace])\n",
    "fig = go.Figure(data=data, layout=layout)\n",
    "iplot(fig)"
   ]
  },
  {
   "cell_type": "markdown",
   "metadata": {},
   "source": [
    "## Opdracht 1\n",
    "\n",
    "Aan jou is het nu, om voor de eerste opdracht een grouped bar chart te maken op basis van deze dataset, waarbij de groepen bestaan uit drie verschillende inkomensgroepen (`poor`, `mid`, en `rich`)\n",
    "\n",
    "<img src=\"groupedbar.png\">\n",
    "\n",
    "**Vereisten:**\n",
    "- Plot titel\n",
    "- As labels\n",
    "- Legenda met correcte namen\n",
    "- Gegroupeerde en gekleurde bars voor elke inkomensgroep\n",
    "- Geheel met plot.ly\n",
    "- Op basis van de data uit het csv bestand"
   ]
  },
  {
   "cell_type": "code",
   "execution_count": 5,
   "metadata": {},
   "outputs": [
    {
     "data": {
      "application/vnd.plotly.v1+json": {
       "data": [
        {
         "name": "Laag",
         "type": "bar",
         "x": [
          1960,
          1970,
          1980,
          1990,
          2000,
          2001,
          2002,
          2003,
          2004,
          2005,
          2006,
          2007,
          2008,
          2009,
          2010,
          2011,
          2012
         ],
         "y": [
          0.137159744916431,
          0.17172023771487002,
          0.31005909732754605,
          0.419910777866702,
          0.503367646179735,
          0.517877141100633,
          0.517425235124804,
          0.529727884081405,
          0.53675818499228,
          0.551922358168366,
          0.573049960586222,
          0.590473647692677,
          0.605367560269941,
          0.6213246094182591,
          0.6301818301927951,
          0.643084471740764,
          0.6531721444627969
         ]
        },
        {
         "name": "Midden",
         "type": "bar",
         "x": [
          1960,
          1970,
          1980,
          1990,
          2000,
          2001,
          2002,
          2003,
          2004,
          2005,
          2006,
          2007,
          2008,
          2009,
          2010,
          2011,
          2012
         ],
         "y": [
          0.0751492896697983,
          0.0815920680116161,
          0.14825303376054802,
          0.243200081945057,
          0.30202036427301804,
          0.31716118135274396,
          0.318240408687117,
          0.328231753232138,
          0.335612735562227,
          0.347668291171296,
          0.370758210022536,
          0.38129485529648705,
          0.39423085445412603,
          0.423992205268431,
          0.431909494845735,
          0.444529454155476,
          0.456128873390655
         ]
        },
        {
         "name": "Hoog",
         "type": "bar",
         "x": [
          1960,
          1970,
          1980,
          1990,
          2000,
          2001,
          2002,
          2003,
          2004,
          2005,
          2006,
          2007,
          2008,
          2009,
          2010,
          2011,
          2012
         ],
         "y": [
          0.20667755754849199,
          0.172409318019596,
          0.18510815487311802,
          0.278322566358388,
          0.271738604840623,
          0.253204149455396,
          0.253472440008386,
          0.251606437656085,
          0.252254470044244,
          0.262045219910141,
          0.34425432644457304,
          0.3543570603700879,
          0.36264829041092406,
          0.377505014316029,
          0.3846912037043379,
          0.40079663500505996,
          0.41060399077052295
         ]
        }
       ],
       "layout": {
        "barmode": "group",
        "title": "Percentage niet-getrouwden in de VS tussen de 25 en 34 naar inkomen",
        "xaxis": {
         "title": "Jaar",
         "type": "category"
        },
        "yaxis": {
         "tickformat": ",.0%",
         "title": "Percentage niet-getrouwd"
        }
       }
      },
      "text/html": [
       "<div id=\"9c6e588e-0f52-4a4d-b877-f8826df06015\" style=\"height: 525px; width: 100%;\" class=\"plotly-graph-div\"></div><script type=\"text/javascript\">require([\"plotly\"], function(Plotly) { window.PLOTLYENV=window.PLOTLYENV || {};window.PLOTLYENV.BASE_URL=\"https://plot.ly\";Plotly.newPlot(\"9c6e588e-0f52-4a4d-b877-f8826df06015\", [{\"type\": \"bar\", \"x\": [1960, 1970, 1980, 1990, 2000, 2001, 2002, 2003, 2004, 2005, 2006, 2007, 2008, 2009, 2010, 2011, 2012], \"y\": [0.137159744916431, 0.17172023771487002, 0.31005909732754605, 0.419910777866702, 0.503367646179735, 0.517877141100633, 0.517425235124804, 0.529727884081405, 0.53675818499228, 0.551922358168366, 0.573049960586222, 0.590473647692677, 0.605367560269941, 0.6213246094182591, 0.6301818301927951, 0.643084471740764, 0.6531721444627969], \"name\": \"Laag\"}, {\"type\": \"bar\", \"x\": [1960, 1970, 1980, 1990, 2000, 2001, 2002, 2003, 2004, 2005, 2006, 2007, 2008, 2009, 2010, 2011, 2012], \"y\": [0.0751492896697983, 0.0815920680116161, 0.14825303376054802, 0.243200081945057, 0.30202036427301804, 0.31716118135274396, 0.318240408687117, 0.328231753232138, 0.335612735562227, 0.347668291171296, 0.370758210022536, 0.38129485529648705, 0.39423085445412603, 0.423992205268431, 0.431909494845735, 0.444529454155476, 0.456128873390655], \"name\": \"Midden\"}, {\"type\": \"bar\", \"x\": [1960, 1970, 1980, 1990, 2000, 2001, 2002, 2003, 2004, 2005, 2006, 2007, 2008, 2009, 2010, 2011, 2012], \"y\": [0.20667755754849199, 0.172409318019596, 0.18510815487311802, 0.278322566358388, 0.271738604840623, 0.253204149455396, 0.253472440008386, 0.251606437656085, 0.252254470044244, 0.262045219910141, 0.34425432644457304, 0.3543570603700879, 0.36264829041092406, 0.377505014316029, 0.3846912037043379, 0.40079663500505996, 0.41060399077052295], \"name\": \"Hoog\"}], {\"title\": \"Percentage niet-getrouwden in de VS tussen de 25 en 34 naar inkomen\", \"barmode\": \"group\", \"xaxis\": {\"title\": \"Jaar\", \"type\": \"category\"}, \"yaxis\": {\"title\": \"Percentage niet-getrouwd\", \"tickformat\": \",.0%\"}}, {\"showLink\": true, \"linkText\": \"Export to plot.ly\"})});</script>"
      ],
      "text/vnd.plotly.v1+html": [
       "<div id=\"9c6e588e-0f52-4a4d-b877-f8826df06015\" style=\"height: 525px; width: 100%;\" class=\"plotly-graph-div\"></div><script type=\"text/javascript\">require([\"plotly\"], function(Plotly) { window.PLOTLYENV=window.PLOTLYENV || {};window.PLOTLYENV.BASE_URL=\"https://plot.ly\";Plotly.newPlot(\"9c6e588e-0f52-4a4d-b877-f8826df06015\", [{\"type\": \"bar\", \"x\": [1960, 1970, 1980, 1990, 2000, 2001, 2002, 2003, 2004, 2005, 2006, 2007, 2008, 2009, 2010, 2011, 2012], \"y\": [0.137159744916431, 0.17172023771487002, 0.31005909732754605, 0.419910777866702, 0.503367646179735, 0.517877141100633, 0.517425235124804, 0.529727884081405, 0.53675818499228, 0.551922358168366, 0.573049960586222, 0.590473647692677, 0.605367560269941, 0.6213246094182591, 0.6301818301927951, 0.643084471740764, 0.6531721444627969], \"name\": \"Laag\"}, {\"type\": \"bar\", \"x\": [1960, 1970, 1980, 1990, 2000, 2001, 2002, 2003, 2004, 2005, 2006, 2007, 2008, 2009, 2010, 2011, 2012], \"y\": [0.0751492896697983, 0.0815920680116161, 0.14825303376054802, 0.243200081945057, 0.30202036427301804, 0.31716118135274396, 0.318240408687117, 0.328231753232138, 0.335612735562227, 0.347668291171296, 0.370758210022536, 0.38129485529648705, 0.39423085445412603, 0.423992205268431, 0.431909494845735, 0.444529454155476, 0.456128873390655], \"name\": \"Midden\"}, {\"type\": \"bar\", \"x\": [1960, 1970, 1980, 1990, 2000, 2001, 2002, 2003, 2004, 2005, 2006, 2007, 2008, 2009, 2010, 2011, 2012], \"y\": [0.20667755754849199, 0.172409318019596, 0.18510815487311802, 0.278322566358388, 0.271738604840623, 0.253204149455396, 0.253472440008386, 0.251606437656085, 0.252254470044244, 0.262045219910141, 0.34425432644457304, 0.3543570603700879, 0.36264829041092406, 0.377505014316029, 0.3846912037043379, 0.40079663500505996, 0.41060399077052295], \"name\": \"Hoog\"}], {\"title\": \"Percentage niet-getrouwden in de VS tussen de 25 en 34 naar inkomen\", \"barmode\": \"group\", \"xaxis\": {\"title\": \"Jaar\", \"type\": \"category\"}, \"yaxis\": {\"title\": \"Percentage niet-getrouwd\", \"tickformat\": \",.0%\"}}, {\"showLink\": true, \"linkText\": \"Export to plot.ly\"})});</script>"
      ]
     },
     "metadata": {},
     "output_type": "display_data"
    }
   ],
   "source": [
    "# Code voor opdracht 1 hier\n",
    "\n",
    "# traces aanmaken voor de verschillende inkomensgroepen\n",
    "laag = go.Bar(\n",
    "    x=df['year'],\n",
    "    y=df['poor'],\n",
    "    name='Laag')\n",
    "\n",
    "mid = go.Bar(\n",
    "    x=df['year'],\n",
    "    y=df['mid'],\n",
    "    name='Midden') \n",
    "\n",
    "hoog = go.Bar(\n",
    "    x=df['year'],\n",
    "    y=df['rich'],\n",
    "    name='Hoog') \n",
    "\n",
    "layout = go.Layout(\n",
    "    title='Percentage niet-getrouwden in de VS tussen de 25 en 34 naar inkomen', # titel toevoegen\n",
    "    barmode='group', # barmode instellen voor group\n",
    "    xaxis=go.XAxis(\n",
    "        title='Jaar', # label voor de X as\n",
    "        type='category' # het type van de X as is categorisch\n",
    "    ),\n",
    "    yaxis = go.YAxis(\n",
    "        title='Percentage niet-getrouwd', # label voor de Y as\n",
    "        tickformat = ',.0%', # toon als percentage\n",
    "    )\n",
    ")\n",
    "\n",
    "data = [laag,mid,hoog] # de drie traces samenvoegen tot één lijst\n",
    "fig = go.Figure(data=data, layout=layout)\n",
    "iplot(fig)"
   ]
  },
  {
   "cell_type": "markdown",
   "metadata": {},
   "source": [
    "## Opdracht 2\n",
    "\n",
    "De tweede opdracht is op basis van `Bestaande_koopwoning.csv` op basis van data van het [CBS](http://statline.cbs.nl/Statweb/publication/?DM=SLNL&PA=83910NED&D1=3&D2=1-6&D3=114&HDR=T,G1&STB=G2&VW=T) en bevat de aantallen verkochte huizen in 2017 in Nederland, naar huis-type.\n",
    "\n",
    "Voor deze opdracht moet je op basis van deze dataset een donut chart maken waarin deze data wordt getoond, uitgesplitst naar type huis.\n",
    "\n",
    "<img src=\"donutchart.png\">\n",
    "\n",
    "**Vereisten:**\n",
    "- Plot titel\n",
    "- Geen legenda\n",
    "- Tekst en percentage rondom de donut chart\n",
    "- Geheel met plot.ly\n",
    "- Op basis van de data uit het csv bestand\n",
    "\n",
    "*Tips:*\n",
    "- In de documentatie van plot.ly is te vinden hoe bepaalde opties (zoals de tekst positie of de tekst info) aangepast kunnen worden: https://plot.ly/python/reference/#pie\n",
    "\n"
   ]
  },
  {
   "cell_type": "code",
   "execution_count": 6,
   "metadata": {},
   "outputs": [
    {
     "data": {
      "application/vnd.plotly.v1+json": {
       "data": [
        {
         "hole": 0.8,
         "labels": [
          "Eengezinswoningen",
          "Tussenwoning",
          "Hoekwoning",
          "2-onder-1 kap",
          "Vrijstaand",
          "Appartement"
         ],
         "showlegend": false,
         "textinfo": "label+percent",
         "textposition": "outside",
         "type": "pie",
         "values": [
          169462,
          79775,
          31594,
          25064,
          33029,
          65424
         ]
        }
       ],
       "layout": {
        "title": "Verkochte huizen in Nederland, naar type, in 2017"
       }
      },
      "text/html": [
       "<div id=\"6139ca3d-c869-4450-9400-657110fb879c\" style=\"height: 525px; width: 100%;\" class=\"plotly-graph-div\"></div><script type=\"text/javascript\">require([\"plotly\"], function(Plotly) { window.PLOTLYENV=window.PLOTLYENV || {};window.PLOTLYENV.BASE_URL=\"https://plot.ly\";Plotly.newPlot(\"6139ca3d-c869-4450-9400-657110fb879c\", [{\"type\": \"pie\", \"labels\": [\"Eengezinswoningen\", \"Tussenwoning\", \"Hoekwoning\", \"2-onder-1 kap\", \"Vrijstaand\", \"Appartement\"], \"values\": [169462, 79775, 31594, 25064, 33029, 65424], \"showlegend\": false, \"textposition\": \"outside\", \"textinfo\": \"label+percent\", \"hole\": 0.8}], {\"title\": \"Verkochte huizen in Nederland, naar type, in 2017\"}, {\"showLink\": true, \"linkText\": \"Export to plot.ly\"})});</script>"
      ],
      "text/vnd.plotly.v1+html": [
       "<div id=\"6139ca3d-c869-4450-9400-657110fb879c\" style=\"height: 525px; width: 100%;\" class=\"plotly-graph-div\"></div><script type=\"text/javascript\">require([\"plotly\"], function(Plotly) { window.PLOTLYENV=window.PLOTLYENV || {};window.PLOTLYENV.BASE_URL=\"https://plot.ly\";Plotly.newPlot(\"6139ca3d-c869-4450-9400-657110fb879c\", [{\"type\": \"pie\", \"labels\": [\"Eengezinswoningen\", \"Tussenwoning\", \"Hoekwoning\", \"2-onder-1 kap\", \"Vrijstaand\", \"Appartement\"], \"values\": [169462, 79775, 31594, 25064, 33029, 65424], \"showlegend\": false, \"textposition\": \"outside\", \"textinfo\": \"label+percent\", \"hole\": 0.8}], {\"title\": \"Verkochte huizen in Nederland, naar type, in 2017\"}, {\"showLink\": true, \"linkText\": \"Export to plot.ly\"})});</script>"
      ]
     },
     "metadata": {},
     "output_type": "display_data"
    }
   ],
   "source": [
    "# Code voor opdracht 2 hier\n",
    "\n",
    "# nieuwe dataset instellen\n",
    "woning_df = pd.read_csv('Bestaande_koopwoning.csv')\n",
    "\n",
    "# pie chart instellen\n",
    "pie=go.Pie(\n",
    "    labels=woning_df['Type woning'], # type woning als label\n",
    "    values=woning_df['Aantal'], # percentage als value\n",
    "    showlegend=False, # legenda weghalen\n",
    "    textposition = 'outside', # text buiten de chart\n",
    "    textinfo = 'label+percent' # label en percentage weergeven\n",
    ")\n",
    "\n",
    "layout = go.Layout(\n",
    "    title='Verkochte huizen in Nederland, naar type, in 2017' # titel toevoegen\n",
    ")\n",
    "\n",
    "pie.update(dict(hole=0.8)) # donut chart maken door hole in te stellen\n",
    "data=go.Data([pie])\n",
    "fig = go.Figure(data=data, layout=layout)\n",
    "iplot(fig)"
   ]
  },
  {
   "cell_type": "markdown",
   "metadata": {},
   "source": [
    "## Opdracht 3\n",
    "\n",
    "De veelgebruikte iris flower dataset beschrijft een viertal eigenschappen van drie soorten irissen: setosa, versicolor, en virginica. Op basis van deze dataset is de setosa het makkelijkst te onderscheiden van de twee andere bloemsoorten.\n",
    "\n",
    "Visualiseer minimaal twee features (kolommen) van deze dataset, waarbij het onderscheid tussen iris setosa en de twee andere bloemsoorten duidelijk te zien is. \n",
    "\n",
    "**Vereisten:**\n",
    "- Minimaal twee features\n",
    "- Labels op X en Y as\n",
    "- Onderscheid tussen iris setosa en overige data duidelijk \n",
    "- Toelichting (van maximaal 3 zinnen) waarom \n",
    "- Andere kleur in de visualisatie voor elke bloemsoort\n",
    "- Correcte naam voor de bloemsoort in de legenda\n",
    "- Geheel met plot.ly\n",
    "- Op basis van de data uit het csv bestand\n",
    "\n",
    "*Tips*:\n",
    "- `iris_df['Name'].unique()` geeft een lijst met de bloemsoorten zoals ze in de dataset staan\n",
    "- In pandas kan je een subset van alle iris setosa uit de dataset selecteren met `iris_df[iris_df['Name'] == 'Iris-setosa']` "
   ]
  },
  {
   "cell_type": "code",
   "execution_count": 7,
   "metadata": {},
   "outputs": [
    {
     "data": {
      "text/plain": [
       "array(['Iris-setosa', 'Iris-versicolor', 'Iris-virginica'], dtype=object)"
      ]
     },
     "execution_count": 7,
     "metadata": {},
     "output_type": "execute_result"
    }
   ],
   "source": [
    "# Naast lokale bestanden accepteert `read_csv` ook URLs.\n",
    "# Dit laad de iris dataset in vanuit de github repositority van pandas\n",
    "iris_df = pd.read_csv(\n",
    "    'https://raw.githubusercontent.com/pandas-dev/pandas/master/pandas/tests/data/iris.csv'\n",
    ")\n",
    "iris_df.head()\n",
    "\n",
    "iris_df['Name'].unique()"
   ]
  },
  {
   "cell_type": "code",
   "execution_count": 8,
   "metadata": {},
   "outputs": [
    {
     "data": {
      "application/vnd.plotly.v1+json": {
       "data": [
        {
         "marker": {
          "color": "rgb(149,70,254)"
         },
         "name": "Iris Setosa",
         "type": "bar",
         "x": [
          "Gemiddelde Kelkblad Breedte",
          "Gemiddelde Bloemblad Breedte"
         ],
         "y": [
          3.418,
          0.244
         ]
        },
        {
         "marker": {
          "color": "rgb(138,69,179)"
         },
         "name": "Iris Versicolor",
         "type": "bar",
         "x": [
          "Gemiddelde Kelkblad Breedte",
          "Gemiddelde Bloemblad Breedte"
         ],
         "y": [
          2.7700000000000005,
          1.3259999999999998
         ]
        },
        {
         "marker": {
          "color": "rgb(224,173,255)"
         },
         "name": "Iris Virginica",
         "type": "bar",
         "x": [
          "Gemiddelde Kelkblad Breedte",
          "Gemiddelde Bloemblad Breedte"
         ],
         "y": [
          2.974,
          2.0260000000000002
         ]
        }
       ],
       "layout": {
        "barmode": "group",
        "title": "Vergelijking van de gemiddelde kelk- en bloembladbreedte tussen drie typen Iris-bloemsoorten",
        "xaxis": {
         "title": "Type blad",
         "type": "category"
        },
        "yaxis": {
         "title": "centimeters (cm)"
        }
       }
      },
      "text/html": [
       "<div id=\"617d4c1c-9799-46ac-b864-46e3a6d1dcaa\" style=\"height: 525px; width: 100%;\" class=\"plotly-graph-div\"></div><script type=\"text/javascript\">require([\"plotly\"], function(Plotly) { window.PLOTLYENV=window.PLOTLYENV || {};window.PLOTLYENV.BASE_URL=\"https://plot.ly\";Plotly.newPlot(\"617d4c1c-9799-46ac-b864-46e3a6d1dcaa\", [{\"type\": \"bar\", \"x\": [\"Gemiddelde Kelkblad Breedte\", \"Gemiddelde Bloemblad Breedte\"], \"y\": [3.418, 0.244], \"name\": \"Iris Setosa\", \"marker\": {\"color\": \"rgb(149,70,254)\"}}, {\"type\": \"bar\", \"x\": [\"Gemiddelde Kelkblad Breedte\", \"Gemiddelde Bloemblad Breedte\"], \"y\": [2.7700000000000005, 1.3259999999999998], \"name\": \"Iris Versicolor\", \"marker\": {\"color\": \"rgb(138,69,179)\"}}, {\"type\": \"bar\", \"x\": [\"Gemiddelde Kelkblad Breedte\", \"Gemiddelde Bloemblad Breedte\"], \"y\": [2.974, 2.0260000000000002], \"name\": \"Iris Virginica\", \"marker\": {\"color\": \"rgb(224,173,255)\"}}], {\"title\": \"Vergelijking van de gemiddelde kelk- en bloembladbreedte tussen drie typen Iris-bloemsoorten\", \"barmode\": \"group\", \"xaxis\": {\"title\": \"Type blad\", \"type\": \"category\"}, \"yaxis\": {\"title\": \"centimeters (cm)\"}}, {\"showLink\": true, \"linkText\": \"Export to plot.ly\"})});</script>"
      ],
      "text/vnd.plotly.v1+html": [
       "<div id=\"617d4c1c-9799-46ac-b864-46e3a6d1dcaa\" style=\"height: 525px; width: 100%;\" class=\"plotly-graph-div\"></div><script type=\"text/javascript\">require([\"plotly\"], function(Plotly) { window.PLOTLYENV=window.PLOTLYENV || {};window.PLOTLYENV.BASE_URL=\"https://plot.ly\";Plotly.newPlot(\"617d4c1c-9799-46ac-b864-46e3a6d1dcaa\", [{\"type\": \"bar\", \"x\": [\"Gemiddelde Kelkblad Breedte\", \"Gemiddelde Bloemblad Breedte\"], \"y\": [3.418, 0.244], \"name\": \"Iris Setosa\", \"marker\": {\"color\": \"rgb(149,70,254)\"}}, {\"type\": \"bar\", \"x\": [\"Gemiddelde Kelkblad Breedte\", \"Gemiddelde Bloemblad Breedte\"], \"y\": [2.7700000000000005, 1.3259999999999998], \"name\": \"Iris Versicolor\", \"marker\": {\"color\": \"rgb(138,69,179)\"}}, {\"type\": \"bar\", \"x\": [\"Gemiddelde Kelkblad Breedte\", \"Gemiddelde Bloemblad Breedte\"], \"y\": [2.974, 2.0260000000000002], \"name\": \"Iris Virginica\", \"marker\": {\"color\": \"rgb(224,173,255)\"}}], {\"title\": \"Vergelijking van de gemiddelde kelk- en bloembladbreedte tussen drie typen Iris-bloemsoorten\", \"barmode\": \"group\", \"xaxis\": {\"title\": \"Type blad\", \"type\": \"category\"}, \"yaxis\": {\"title\": \"centimeters (cm)\"}}, {\"showLink\": true, \"linkText\": \"Export to plot.ly\"})});</script>"
      ]
     },
     "metadata": {},
     "output_type": "display_data"
    }
   ],
   "source": [
    "# Code voor opdracht 3 hier\n",
    "\n",
    "# traces aanmaken voor de verschillende bloemsoorten\n",
    "setosa = go.Bar(\n",
    "    x=['Gemiddelde Kelkblad Breedte', 'Gemiddelde Bloemblad Breedte'], # X as instellen\n",
    "    # Y as instellen, gemiddelde SepalWith en gemiddelde PetalWidth\n",
    "    y=[iris_df[iris_df['Name'] == 'Iris-setosa']['SepalWidth'].mean() ,iris_df[iris_df['Name'] == 'Iris-setosa']['PetalWidth'].mean()],\n",
    "    name='Iris Setosa',\n",
    "    marker=dict(color='rgb(149,70,254)')) # kleur instellen\n",
    "\n",
    "versicolor = go.Bar(\n",
    "    x=['Gemiddelde Kelkblad Breedte', 'Gemiddelde Bloemblad Breedte'], # X as instellen\n",
    "    # Y as instellen, gemiddelde SepalWith en gemiddelde PetalWidth\n",
    "    y=[iris_df[iris_df['Name'] == 'Iris-versicolor']['SepalWidth'].mean(),iris_df[iris_df['Name'] == 'Iris-versicolor']['PetalWidth'].mean()],\n",
    "    name='Iris Versicolor',\n",
    "    marker=dict(color='rgb(138,69,179)')) # kleur instellen\n",
    "\n",
    "virginica = go.Bar(\n",
    "    x=['Gemiddelde Kelkblad Breedte', 'Gemiddelde Bloemblad Breedte'], # X as instellen\n",
    "    # Y as instellen, gemiddelde SepalWith en gemiddelde PetalWidth\n",
    "    y=[iris_df[iris_df['Name'] == 'Iris-virginica']['SepalWidth'].mean(),iris_df[iris_df['Name'] == 'Iris-virginica']['PetalWidth'].mean()],\n",
    "    name='Iris Virginica',\n",
    "    marker=dict(color='rgb(224,173,255)')) # kleur instellen\n",
    "\n",
    "layout = go.Layout(\n",
    "    title='Vergelijking van de gemiddelde kelk- en bloembladbreedte tussen drie typen Iris-bloemsoorten', # titel toevoegen\n",
    "    barmode='group', # barmode instellen voor group\n",
    "    xaxis=go.XAxis(\n",
    "        title='Type blad', # label voor de X as\n",
    "        type='category' # het type van de X as is categorisch\n",
    "    ),\n",
    "    yaxis = go.YAxis(\n",
    "        title='centimeters (cm)', # label voor de Y as\n",
    "    )\n",
    ")\n",
    "\n",
    "data = [setosa,versicolor,virginica] # de drie traces samenvoegen tot één lijst\n",
    "fig = go.Figure(data=data, layout=layout)\n",
    "iplot(fig)"
   ]
  },
  {
   "cell_type": "markdown",
   "metadata": {},
   "source": [
    "### Toelichting\n",
    "Ik heb ervoor gekozen om de gemiddelde breedtes van zowel het kelkblad als het bloemblad te vergelijken tussen de drie typen Iris-bloemsoorten. Met name omdat er duidelijk verschil te zien is tussen de drie soorten wat betreft deze twee bladbreedtes. Ook is er duidelijk onderscheid te zien tussen de Iris Setosa en de andere twee bloemsoorten."
   ]
  },
  {
   "cell_type": "code",
   "execution_count": null,
   "metadata": {},
   "outputs": [],
   "source": []
  }
 ],
 "metadata": {
  "kernelspec": {
   "display_name": "Python 3",
   "language": "python",
   "name": "python3"
  },
  "language_info": {
   "codemirror_mode": {
    "name": "ipython",
    "version": 3
   },
   "file_extension": ".py",
   "mimetype": "text/x-python",
   "name": "python",
   "nbconvert_exporter": "python",
   "pygments_lexer": "ipython3",
   "version": "3.6.2"
  }
 },
 "nbformat": 4,
 "nbformat_minor": 2
}
