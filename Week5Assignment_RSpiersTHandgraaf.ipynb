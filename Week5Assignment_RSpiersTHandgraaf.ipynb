{
 "cells": [
  {
   "cell_type": "markdown",
   "metadata": {},
   "source": [
    "## Notebook made by   (If not filled in correctly: 0 pts for assignment)\n",
    "\n",
    "__Name(s)__: Robin Spiers & Tom Handgraaf\n",
    "\n",
    "__Student id(s)__ : 11829494 & 11852615\n",
    "\n",
    "### Pledge (taken from [Coursera's Honor Code](https://www.coursera.org/about/terms/honorcode) )\n",
    "\n",
    "Put here a selfie with your photo where you hold a signed paper with the following text: (if this is team work, put two selfies here). The link must be to some place on the web, not to a local file.\n",
    "\n",
    "> My answers to homework, quizzes and exams will be my own work (except for assignments that explicitly permit collaboration).\n",
    "\n",
    ">I will not make solutions to homework, quizzes or exams available to anyone else. This includes both solutions written by me, as well as any official solutions provided by the course staff.\n",
    "\n",
    ">I will not engage in any other activities that will dishonestly improve my results or dishonestly improve/hurt the results of others.\n",
    "\n",
    "<img src='https://i.imgur.com/RZVQP9i.jpg'/>"
   ]
  },
  {
   "cell_type": "markdown",
   "metadata": {
    "nbgrader": {},
    "slideshow": {
     "slide_type": "slide"
    }
   },
   "source": [
    "## Questions"
   ]
  },
  {
   "cell_type": "code",
   "execution_count": 1,
   "metadata": {},
   "outputs": [],
   "source": [
    "import nltk\n",
    "import requests\n",
    "import re\n",
    "from bs4 import BeautifulSoup\n",
    "from collections import Counter\n",
    "from nltk.corpus import stopwords\n",
    "from functools import cmp_to_key"
   ]
  },
  {
   "cell_type": "markdown",
   "metadata": {
    "nbgrader": {},
    "slideshow": {
     "slide_type": "slide"
    }
   },
   "source": [
    "### Advanced programming\n",
    "\n",
    "**Q1** Consider the following block of code. Refactor it:\n",
    "* get rid of the loops using list comprehensions\n",
    "* get rid of the parameters `freqdist` and `n`\n",
    "* do not print, but return the frequency distribution\n",
    "* add a docstring\n",
    "* Call the original function and call your new function using the url <http://www.nrc.nl/nieuws/2015/04/19/louise-gunning-vertrekt-als-voorzitter-bestuur-uva/> (A local version is available at <http://maartenmarx.nl/teaching/CollectieveIntelligentie/Data/gunning.html>)\n",
    "    * Use list comprehension in your call to print out  the words"
   ]
  },
  {
   "cell_type": "code",
   "execution_count": 2,
   "metadata": {
    "nbgrader": {
     "grade": false,
     "solution": false
    }
   },
   "outputs": [],
   "source": [
    "# old function\n",
    "def freq_words_old(url, freqdist, n):\n",
    "    html = requests.get(url)\n",
    "    raw = BeautifulSoup(html.text).text\n",
    "    for word in nltk.word_tokenize(raw):\n",
    "        freqdist[word.lower()] += 1\n",
    "    result = []\n",
    "    for word, count in freqdist.most_common(n):\n",
    "        result = result + [word]\n",
    "    print(result)\n",
    "\n",
    "# new function\n",
    "def freq_words(url):\n",
    "    \"\"\"Dit is een docstring. Geef chips. haha doei.\"\"\"\n",
    "    \n",
    "    html = requests.get(url)\n",
    "    raw = BeautifulSoup(html.text).text\n",
    "    \n",
    "    # using tokenizer and Counter() to create a dictionary of all words and their frequencies\n",
    "    result = Counter(nltk.word_tokenize(raw))\n",
    "    \n",
    "    # return a list of the words based on frequency\n",
    "    return [word for word,count in result.most_common()]"
   ]
  },
  {
   "cell_type": "code",
   "execution_count": 3,
   "metadata": {
    "nbgrader": {}
   },
   "outputs": [
    {
     "name": "stderr",
     "output_type": "stream",
     "text": [
      "c:\\users\\rspie\\appdata\\local\\programs\\python\\python36-32\\lib\\site-packages\\bs4\\__init__.py:181: UserWarning: No parser was explicitly specified, so I'm using the best available HTML parser for this system (\"html5lib\"). This usually isn't a problem, but if you run this code on another system, or in a different virtual environment, it may use a different parser and behave differently.\n",
      "\n",
      "The code that caused this warning is on line 193 of the file c:\\users\\rspie\\appdata\\local\\programs\\python\\python36-32\\lib\\runpy.py. To get rid of this warning, change code that looks like this:\n",
      "\n",
      " BeautifulSoup(YOUR_MARKUP})\n",
      "\n",
      "to this:\n",
      "\n",
      " BeautifulSoup(YOUR_MARKUP, \"html5lib\")\n",
      "\n",
      "  markup_type=markup_type))\n"
     ]
    },
    {
     "name": "stdout",
     "output_type": "stream",
     "text": [
      "[',', ':', \"'\", '(', ')', \"''\", '``', 'de', ';', '{']\n"
     ]
    },
    {
     "data": {
      "text/plain": [
       "(None,\n",
       " [',', ':', \"'\", '(', ')', \"''\", '``', 'de', ';', '{'],\n",
       " 'Dit is een docstring. Geef chips. haha doei.')"
      ]
     },
     "execution_count": 3,
     "metadata": {},
     "output_type": "execute_result"
    }
   ],
   "source": [
    "url = 'http://www.nrc.nl/nieuws/2015/04/19/louise-gunning-vertrekt-als-voorzitter-bestuur-uva/'\n",
    "fd = nltk.FreqDist()\n",
    "\n",
    "# output from old function, new function and the docstring in the new function\n",
    "freq_words_old(url,fd,10), freq_words(url)[:10], freq_words.__doc__"
   ]
  },
  {
   "cell_type": "markdown",
   "metadata": {
    "nbgrader": {}
   },
   "source": [
    "**Q2** Change your code to remove  (Dutch) stopwords and punctuation tokens.\n",
    "* Use `from nltk.corpus import stopwords` and `import re`. Do NOT go to the internet to discover what to do. Use the help functionality of IPython instead."
   ]
  },
  {
   "cell_type": "code",
   "execution_count": 4,
   "metadata": {},
   "outputs": [
    {
     "name": "stderr",
     "output_type": "stream",
     "text": [
      "c:\\users\\rspie\\appdata\\local\\programs\\python\\python36-32\\lib\\site-packages\\bs4\\__init__.py:181: UserWarning: No parser was explicitly specified, so I'm using the best available HTML parser for this system (\"html5lib\"). This usually isn't a problem, but if you run this code on another system, or in a different virtual environment, it may use a different parser and behave differently.\n",
      "\n",
      "The code that caused this warning is on line 193 of the file c:\\users\\rspie\\appdata\\local\\programs\\python\\python36-32\\lib\\runpy.py. To get rid of this warning, change code that looks like this:\n",
      "\n",
      " BeautifulSoup(YOUR_MARKUP})\n",
      "\n",
      "to this:\n",
      "\n",
      " BeautifulSoup(YOUR_MARKUP, \"html5lib\")\n",
      "\n",
      "  markup_type=markup_type))\n"
     ]
    },
    {
     "data": {
      "text/plain": [
       "['bestuur',\n",
       " 'gunning',\n",
       " 'nrc',\n",
       " 'screen',\n",
       " 'uva',\n",
       " 'universiteit',\n",
       " 'louise',\n",
       " 'and',\n",
       " 'vertrekt',\n",
       " 'amsterdam',\n",
       " 'type',\n",
       " 'voorzitter',\n",
       " 'media',\n",
       " 'only',\n",
       " 'college',\n",
       " 'docenten',\n",
       " 'krant',\n",
       " 'imgc44e09ee115a4a6d4b24da45f5678758',\n",
       " 'backgroundimage',\n",
       " 'imgc44e09ee115a4a6d4b24da45f5678758before']"
      ]
     },
     "execution_count": 4,
     "metadata": {},
     "output_type": "execute_result"
    }
   ],
   "source": [
    "def freq_words(url):\n",
    "    \"\"\"Dit is een docstring. Geef chips. haha doei.\"\"\"\n",
    "    \n",
    "    html = requests.get(url)\n",
    "    raw = BeautifulSoup(html.text).text\n",
    "    \n",
    "    # remove punctuation tokens\n",
    "    filtered = re.sub(r'[^a-zA-Z\\d\\s]', '', raw)\n",
    "    tokenized = nltk.word_tokenize(filtered.lower())\n",
    "    \n",
    "    # remove Dutch stopwords\n",
    "    final = [w for w in tokenized if w not in stopwords.words('dutch')]\n",
    "    \n",
    "    # apply counter and return a list of the words based on frequency\n",
    "    result = Counter(final)\n",
    "    return [word for word,count in result.most_common()]\n",
    "\n",
    "freq_words(url)[:20]"
   ]
  },
  {
   "cell_type": "markdown",
   "metadata": {
    "nbgrader": {}
   },
   "source": [
    "**Q3** There are still words in your top 20 which are not content related. If we look at the underlying HTML we see that the real article text is located in a div element which can be uniquely determined by the value of its class attribute.   \n",
    "* Change your function by adding an extra parameter in which you specify a class value, your function should now only work on words inside the element(s) with a class attribute with the secified value.\n",
    "* Change your call to get the 20 top words.\n",
    "* Are they better?\n",
    " \n"
   ]
  },
  {
   "cell_type": "code",
   "execution_count": 5,
   "metadata": {},
   "outputs": [
    {
     "name": "stderr",
     "output_type": "stream",
     "text": [
      "c:\\users\\rspie\\appdata\\local\\programs\\python\\python36-32\\lib\\site-packages\\bs4\\__init__.py:181: UserWarning: No parser was explicitly specified, so I'm using the best available HTML parser for this system (\"html5lib\"). This usually isn't a problem, but if you run this code on another system, or in a different virtual environment, it may use a different parser and behave differently.\n",
      "\n",
      "The code that caused this warning is on line 193 of the file c:\\users\\rspie\\appdata\\local\\programs\\python\\python36-32\\lib\\runpy.py. To get rid of this warning, change code that looks like this:\n",
      "\n",
      " BeautifulSoup(YOUR_MARKUP})\n",
      "\n",
      "to this:\n",
      "\n",
      " BeautifulSoup(YOUR_MARKUP, \"html5lib\")\n",
      "\n",
      "  markup_type=markup_type))\n"
     ]
    },
    {
     "data": {
      "text/plain": [
       "['bestuur',\n",
       " 'gunning',\n",
       " 'universiteit',\n",
       " 'docenten',\n",
       " 'tijd',\n",
       " 'amsterdam',\n",
       " 'uva',\n",
       " 'rest',\n",
       " 'college',\n",
       " 'afgelopen',\n",
       " 'studenten',\n",
       " 'louise',\n",
       " 'week',\n",
       " 'twee',\n",
       " 'vertrouwen',\n",
       " 'raden',\n",
       " 'toezicht',\n",
       " 'leiding',\n",
       " 'tienpuntenplan',\n",
       " 'weken']"
      ]
     },
     "execution_count": 5,
     "metadata": {},
     "output_type": "execute_result"
    }
   ],
   "source": [
    "def freq_words(url, identifier):\n",
    "    \"\"\"Dit is een docstring. Geef chips. haha doei.\"\"\"\n",
    "    \n",
    "    html = requests.get(url)\n",
    "    \n",
    "    # parsing the webpage using BeautifulSoup\n",
    "    soup = BeautifulSoup(html.text)\n",
    "    \n",
    "    # find the main text, which is in a specific div section\n",
    "    div = soup.find('div', {\"class\" : identifier})\n",
    "    raw = div.text\n",
    "    \n",
    "    # remove punctuation tokens\n",
    "    filtered = re.sub(r'[^a-zA-Z\\d\\s]', '', raw)\n",
    "    tokenized = nltk.word_tokenize(filtered.lower())\n",
    "    \n",
    "    # remove Dutch stopwords\n",
    "    final = [w for w in tokenized if w not in stopwords.words('dutch')]\n",
    "    \n",
    "    # apply counter and return a list of the words based on frequency\n",
    "    result = Counter(final)\n",
    "    return [word for word,count in result.most_common(20)]\n",
    "\n",
    "freq_words(url, 'content article__content')[:20]"
   ]
  },
  {
   "cell_type": "markdown",
   "metadata": {
    "nbgrader": {}
   },
   "source": [
    "**Q4** Find the interesting colocations in the text, using NLTK's `colocations()` function. First you must turn the text into an NLTK text object using `nltk.Text(list of tokens)`.\n",
    "\n",
    "Create the function `NLTK_text(url,identifier)` which returns the NLTK text object of the input text.\n",
    "\n",
    "I had the following result after calling\n",
    "\n",
    "```\n",
    "ef=NLTK_text(url,'artikel')\n",
    "ef.collocations()\n",
    "```\n",
    "\n",
    "result:\n",
    "\n",
    "\n",
    ">Louise Gunning; het bestuur; van Amsterdam; haar ontslag; ontslag\n",
    "aangeboden; College van; van Bestuur; afgelopen weken; onder vuur;\n",
    "lange tijd; Raden van; Universiteit van; rest van; van Toezicht; meer\n",
    "dan; een petitie; als voorzitter; tijd onder; het Maagdenhuis; het\n",
    "vertrouwen"
   ]
  },
  {
   "cell_type": "code",
   "execution_count": 6,
   "metadata": {},
   "outputs": [
    {
     "name": "stdout",
     "output_type": "stream",
     "text": [
      "het bestuur; afgelopen weken; onder vuur; lange tijd; college van;\n",
      "rest van; van amsterdam; meer dan; louise gunning; tijd onder; een\n",
      "petitie; het maagdenhuis; het vertrouwen; raden van; van toezicht; van\n",
      "het; van bestuur; universiteit van\n"
     ]
    },
    {
     "name": "stderr",
     "output_type": "stream",
     "text": [
      "c:\\users\\rspie\\appdata\\local\\programs\\python\\python36-32\\lib\\site-packages\\bs4\\__init__.py:181: UserWarning: No parser was explicitly specified, so I'm using the best available HTML parser for this system (\"html5lib\"). This usually isn't a problem, but if you run this code on another system, or in a different virtual environment, it may use a different parser and behave differently.\n",
      "\n",
      "The code that caused this warning is on line 193 of the file c:\\users\\rspie\\appdata\\local\\programs\\python\\python36-32\\lib\\runpy.py. To get rid of this warning, change code that looks like this:\n",
      "\n",
      " BeautifulSoup(YOUR_MARKUP})\n",
      "\n",
      "to this:\n",
      "\n",
      " BeautifulSoup(YOUR_MARKUP, \"html5lib\")\n",
      "\n",
      "  markup_type=markup_type))\n"
     ]
    }
   ],
   "source": [
    "def NLTK_text(url,identifier):\n",
    "    html = requests.get(url)\n",
    "    \n",
    "    # parsing the webpage using BeautifulSoup\n",
    "    soup = BeautifulSoup(html.text)\n",
    "    \n",
    "    # find the main text, which is in a specific div section\n",
    "    div = soup.find('div', {\"class\" : identifier})\n",
    "    raw = div.text\n",
    "    \n",
    "    # remove punctuation tokens\n",
    "    filtered = re.sub(r'[^a-zA-Z\\d\\s]', '', raw)\n",
    "    \n",
    "    # apply tokenizer and return text\n",
    "    tokenized = nltk.word_tokenize(filtered.lower())\n",
    "    return nltk.Text(tokenized)\n",
    "\n",
    "ef = NLTK_text(url, 'content article__content')\n",
    "ef.collocations()"
   ]
  },
  {
   "cell_type": "markdown",
   "metadata": {},
   "source": [
    "**Q5** Filter out the stopwords from the text to get even better colocations.\n",
    "I had\n",
    "\n",
    ">College Bestuur; Louise Gunning; Raden Toezicht; Universiteit\n",
    "Amsterdam; ontslag aangeboden; afgelopen weken; lange tijd; tijd vuur;\n",
    "Hogeschool Amsterdam; rest bestuur; Gunning rest; Gunning vertrekt"
   ]
  },
  {
   "cell_type": "code",
   "execution_count": 7,
   "metadata": {},
   "outputs": [
    {
     "name": "stderr",
     "output_type": "stream",
     "text": [
      "c:\\users\\rspie\\appdata\\local\\programs\\python\\python36-32\\lib\\site-packages\\bs4\\__init__.py:181: UserWarning: No parser was explicitly specified, so I'm using the best available HTML parser for this system (\"html5lib\"). This usually isn't a problem, but if you run this code on another system, or in a different virtual environment, it may use a different parser and behave differently.\n",
      "\n",
      "The code that caused this warning is on line 193 of the file c:\\users\\rspie\\appdata\\local\\programs\\python\\python36-32\\lib\\runpy.py. To get rid of this warning, change code that looks like this:\n",
      "\n",
      " BeautifulSoup(YOUR_MARKUP})\n",
      "\n",
      "to this:\n",
      "\n",
      " BeautifulSoup(YOUR_MARKUP, \"html5lib\")\n",
      "\n",
      "  markup_type=markup_type))\n"
     ]
    },
    {
     "name": "stdout",
     "output_type": "stream",
     "text": [
      "raden toezicht; college bestuur; afgelopen weken; lange tijd; tijd\n",
      "vuur; louise gunning; studenten docenten; universiteit amsterdam;\n",
      "gunning rest; rest bestuur\n"
     ]
    }
   ],
   "source": [
    "def NLTK_text(url,identifier):\n",
    "    html = requests.get(url)\n",
    "    \n",
    "    # parsing the webpage using BeautifulSoup\n",
    "    soup = BeautifulSoup(html.text)\n",
    "    \n",
    "    # find the main text, which is in a specific div section\n",
    "    div = soup.find('div', {\"class\" : identifier})\n",
    "    raw = div.text\n",
    "    \n",
    "    # remove punctuation tokens\n",
    "    filtered = re.sub(r'[^a-zA-Z\\d\\s]', '', raw)\n",
    "    tokenized = nltk.word_tokenize(filtered.lower())\n",
    "    \n",
    "    # create list of all words that aren't Dutch stopwords\n",
    "    result = [w for w in tokenized if w not in stopwords.words('dutch')]\n",
    "    return nltk.Text(result)\n",
    "\n",
    "ef = NLTK_text(url, 'content article__content')\n",
    "ef.collocations()"
   ]
  },
  {
   "cell_type": "markdown",
   "metadata": {
    "nbgrader": {}
   },
   "source": [
    "**Q6**  \n",
    "\n",
    "1. Identify three operations that can be performed on both tuples and lists. \n",
    "1. Identify three list operations that cannot be performed on tuples. \n",
    "1. BONUS: Name a context where using a list instead of a tuple generates a Python error."
   ]
  },
  {
   "cell_type": "code",
   "execution_count": 8,
   "metadata": {},
   "outputs": [
    {
     "name": "stdout",
     "output_type": "stream",
     "text": [
      "Multiple times: ['1', '2', '3', '4', '5', '1', '2', '3', '4', '5'] , ('1', '2', '3', '4', '5', '1', '2', '3', '4', '5')\n",
      "Search for item: 3 , 3\n",
      "Merge: ['1', '2', '3', '4', '5', '6', '7', '8'] , ('1', '2', '3', '4', '5', '6', '7', '8')\n"
     ]
    }
   ],
   "source": [
    "# Q6.1\n",
    "list1 = ['1','2','3','4','5']\n",
    "tuple1 = ('1','2','3','4','5')\n",
    "\n",
    "# you can print a list or a tuple multiple times using *\n",
    "print('Multiple times:', list1 * 2, ',',tuple1 * 2)\n",
    "\n",
    "# you can search for a specific item based off a number\n",
    "print('Search for item:', list1[2], ',', tuple1[2])\n",
    "\n",
    "# you can merge two lists/tuples\n",
    "list2 = ['6', '7', '8']\n",
    "lists = list1 + list2\n",
    "tuple2 = ('6', '7', '8')\n",
    "tuples = tuple1 + tuple2\n",
    "\n",
    "print('Merge:', lists, ',', tuples)"
   ]
  },
  {
   "cell_type": "markdown",
   "metadata": {},
   "source": [
    "### Answer to Q6.2\n",
    "\n",
    "#### tuple has no attribute append\n",
    "`print('Append:', list1.append('6'), ',', tuple1.append('6'))`\n",
    "\n",
    "#### tuple doesn't support item assignment\n",
    "`list1[3] = '7'\n",
    "print(list1)\n",
    "tuple1[3] = '7'\n",
    "print(tuple1)`\n",
    "\n",
    "#### tuple doesn't support item deletion\n",
    "`del(list1[0])\n",
    "print(list1)\n",
    "del(tuple1[0])\n",
    "print(tuple1)`\n",
    "\n",
    "#### DISCLAIMER: the kernel would stop here^^ because this code gives an error"
   ]
  },
  {
   "cell_type": "code",
   "execution_count": 9,
   "metadata": {},
   "outputs": [
    {
     "data": {
      "text/plain": [
       "{('alpha', 'bravo'): 123}"
      ]
     },
     "execution_count": 9,
     "metadata": {},
     "output_type": "execute_result"
    }
   ],
   "source": [
    "# Q6.3 BONUS\n",
    "\n",
    "# this works\n",
    "key_tuple = {('alpha','bravo') : 123}\n",
    "key_tuple"
   ]
  },
  {
   "cell_type": "markdown",
   "metadata": {},
   "source": [
    "#### Q6.3 this doesn't work: unhashable type list\n",
    "`key_list = {['alpha','bravo'] : 123}`"
   ]
  },
  {
   "cell_type": "markdown",
   "metadata": {
    "nbgrader": {}
   },
   "source": [
    "**Q7** Find out how to create a tuple consisting of a single item. Give at least two ways to do this. \n",
    "Print the tuple, it's length and its type."
   ]
  },
  {
   "cell_type": "code",
   "execution_count": 10,
   "metadata": {},
   "outputs": [
    {
     "data": {
      "text/plain": [
       "((1,), 1, tuple)"
      ]
     },
     "execution_count": 10,
     "metadata": {},
     "output_type": "execute_result"
    }
   ],
   "source": [
    "# first way\n",
    "\n",
    "# the important part here is to include the ,\n",
    "singletuple = (1,)\n",
    "singletuple, len(singletuple), type(singletuple)"
   ]
  },
  {
   "cell_type": "code",
   "execution_count": 11,
   "metadata": {},
   "outputs": [
    {
     "name": "stdout",
     "output_type": "stream",
     "text": [
      "('a',) 1 <class 'tuple'>\n"
     ]
    }
   ],
   "source": [
    "# second way\n",
    "\n",
    "# using tuple()\n",
    "tup1 = tuple('a')\n",
    "print(tup1, len(tup1), type(tup1))\n",
    "\n",
    "# NOTE: sometimes it might give an error 'uncallable type tuple' -> restart & run kernel"
   ]
  },
  {
   "cell_type": "markdown",
   "metadata": {
    "nbgrader": {}
   },
   "source": [
    "**Q8** Write a program to sort a list of words by length. Define a helper function `cmp_len` which uses the `cmp` comparison function on word lengths. Continue the following solution:\n",
    "\n",
    "```\n",
    "def cmp_len(W1,W2):\n",
    "    return #YOU\n",
    "\n",
    "def sort_by_length(L):\n",
    "    return #YOU\n",
    "    \n",
    "#test\n",
    "cmp_len('aa','a'),cmp_len('a','aa'), sort_by_length(['aa','a','aaa'])\n",
    "```"
   ]
  },
  {
   "cell_type": "code",
   "execution_count": 12,
   "metadata": {},
   "outputs": [
    {
     "data": {
      "text/plain": [
       "(1, -1, ['a', 'aa', 'aaa'])"
      ]
     },
     "execution_count": 12,
     "metadata": {},
     "output_type": "execute_result"
    }
   ],
   "source": [
    "def cmp_len(W1,W2):\n",
    "    return (len(W1) > len(W2)) - (len(W1) < len(W2))\n",
    "\n",
    "def sort_by_length(L):\n",
    "    return sorted(L, key = cmp_to_key(cmp_len))\n",
    "\n",
    "#test\n",
    "cmp_len('aa','a'),cmp_len('a','aa'), sort_by_length(['aa','a','aaa'])"
   ]
  },
  {
   "cell_type": "markdown",
   "metadata": {
    "nbgrader": {}
   },
   "source": [
    "**Q9** Write a function `shorten(text, n)` to process a text, omitting the n most frequently occurring words of the text. \n",
    "    * Write down the basic steps which this function must do. Each of them can be programmed in a one-liner.\n",
    "    * Put these steps also as comments in your code.\n",
    "    * How readable is it? \n",
    "    * Do not use any for loop. \n",
    "    * Make the function as declarative as possible.\n",
    "\n"
   ]
  },
  {
   "cell_type": "code",
   "execution_count": 13,
   "metadata": {
    "scrolled": true
   },
   "outputs": [
    {
     "name": "stderr",
     "output_type": "stream",
     "text": [
      "c:\\users\\rspie\\appdata\\local\\programs\\python\\python36-32\\lib\\site-packages\\bs4\\__init__.py:181: UserWarning: No parser was explicitly specified, so I'm using the best available HTML parser for this system (\"html5lib\"). This usually isn't a problem, but if you run this code on another system, or in a different virtual environment, it may use a different parser and behave differently.\n",
      "\n",
      "The code that caused this warning is on line 193 of the file c:\\users\\rspie\\appdata\\local\\programs\\python\\python36-32\\lib\\runpy.py. To get rid of this warning, change code that looks like this:\n",
      "\n",
      " BeautifulSoup(YOUR_MARKUP})\n",
      "\n",
      "to this:\n",
      "\n",
      " BeautifulSoup(YOUR_MARKUP, \"html5lib\")\n",
      "\n",
      "  markup_type=markup_type))\n"
     ]
    },
    {
     "data": {
      "text/plain": [
       "<Text: gunning vertrekt als voorzitter bestuur uva - nmt = { bottom : [>"
      ]
     },
     "execution_count": 13,
     "metadata": {},
     "output_type": "execute_result"
    }
   ],
   "source": [
    "html = requests.get(url)\n",
    "text = BeautifulSoup(html.text).text\n",
    "\n",
    "def shorten(text, n):\n",
    "    \n",
    "    # remove punctuation\n",
    "    words = re.sub(r'[^a-zA-Z\\d\\s]', '', text)\n",
    "    \n",
    "    # rank the words \n",
    "    words = Counter(nltk.word_tokenize(words.lower())).most_common()\n",
    "    \n",
    "    # create variable for particular word\n",
    "    delete = words[n]\n",
    "        \n",
    "    # create list of tokenized text\n",
    "    tokenized = nltk.word_tokenize(text.lower())\n",
    "    \n",
    "    # delete the particular word from the list\n",
    "    tokenized.remove(delete[0])\n",
    "\n",
    "    # return normal text\n",
    "    return nltk.Text(tokenized)\n",
    "    \n",
    "    \n",
    "shorten(text, 5)"
   ]
  },
  {
   "cell_type": "markdown",
   "metadata": {
    "nbgrader": {}
   },
   "source": [
    "**Q10** Write a function that takes a text and a vocabulary as its arguments and returns the set of words that appear in the text but not in the vocabulary. Both arguments are   lists of strings. Do this in two  lines, like this:\n",
    "\n",
    "```\n",
    "def out_of_voc_words(Text,Voc):\n",
    "    return  #your code\n",
    "\n",
    "#test \n",
    "out_of_voc_words([1,1,2,3,3],[0,1,3,4])\n",
    "```"
   ]
  },
  {
   "cell_type": "code",
   "execution_count": 14,
   "metadata": {},
   "outputs": [
    {
     "data": {
      "text/plain": [
       "(2, 5)"
      ]
     },
     "execution_count": 14,
     "metadata": {},
     "output_type": "execute_result"
    }
   ],
   "source": [
    "def out_of_voc_words(Text,Voc):\n",
    "    return tuple([p for p in Text if p not in Voc])\n",
    "\n",
    "#test \n",
    "out_of_voc_words([1,1,2,3,3,5],[0,1,3,4])"
   ]
  },
  {
   "cell_type": "markdown",
   "metadata": {
    "collapsed": true
   },
   "source": [
    "## Q11\n",
    "\n",
    "Create a good summary of these snippets of speeches of Wilders in parliament about \"thee\". \n",
    "\n",
    "Also just print out the text Wilders said in parliament contained in this variable `html`."
   ]
  },
  {
   "cell_type": "code",
   "execution_count": 15,
   "metadata": {},
   "outputs": [],
   "source": [
    "html='''\n",
    "<div class=\"col-md-10\">\n",
    "                \t<div class=\"row\">\n",
    "                \t\t<div class=\"col-md-7\">\n",
    "                            <p class=\"text-default ng-binding\"> 8 results (0.129 sec.)</p>\n",
    "                        </div>\n",
    "                \t\t<div class=\"col-md-5\">\n",
    "                            <div class=\"dropdown\" style=\"padding-bottom:10px;\">\n",
    "                                <label for=\"dropdownOrderBy\">Order by&nbsp;&nbsp;</label>\n",
    "                                <button class=\"btn btn-default dropdown-toggle ng-binding\" style=\"min-width:150px;\" type=\"button\" id=\"dropdownOrderBy\" data-toggle=\"dropdown\" aria-expanded=\"true\">\n",
    "                                Relevance\n",
    "                                <span class=\"caret\"></span>\n",
    "                                </button>\n",
    "                                <ul class=\"dropdown-menu\" role=\"menu\" aria-labelledby=\"dropdownOrderBy\">\n",
    "                                    <!-- ngRepeat: c in dropdowns.orderlist --><li role=\"presentation\" ng-repeat=\"c in dropdowns.orderlist\" class=\"ng-scope\"><a role=\"menuitem\" tabindex=\"-1\" href=\"#\" ng-click=\"dropdowns.selectedOrder = c\" class=\"ng-binding\">Relevance</a></li><!-- end ngRepeat: c in dropdowns.orderlist --><li role=\"presentation\" ng-repeat=\"c in dropdowns.orderlist\" class=\"ng-scope\"><a role=\"menuitem\" tabindex=\"-1\" href=\"#\" ng-click=\"dropdowns.selectedOrder = c\" class=\"ng-binding\">Date(desc)</a></li><!-- end ngRepeat: c in dropdowns.orderlist --><li role=\"presentation\" ng-repeat=\"c in dropdowns.orderlist\" class=\"ng-scope\"><a role=\"menuitem\" tabindex=\"-1\" href=\"#\" ng-click=\"dropdowns.selectedOrder = c\" class=\"ng-binding\">Date(asc)</a></li><!-- end ngRepeat: c in dropdowns.orderlist --><li role=\"presentation\" ng-repeat=\"c in dropdowns.orderlist\" class=\"ng-scope\"><a role=\"menuitem\" tabindex=\"-1\" href=\"#\" ng-click=\"dropdowns.selectedOrder = c\" class=\"ng-binding\">Number of paragraphs(desc)</a></li><!-- end ngRepeat: c in dropdowns.orderlist --><li role=\"presentation\" ng-repeat=\"c in dropdowns.orderlist\" class=\"ng-scope\"><a role=\"menuitem\" tabindex=\"-1\" href=\"#\" ng-click=\"dropdowns.selectedOrder = c\" class=\"ng-binding\">Number of paragraphs(asc)</a></li><!-- end ngRepeat: c in dropdowns.orderlist --><li role=\"presentation\" ng-repeat=\"c in dropdowns.orderlist\" class=\"ng-scope\"><a role=\"menuitem\" tabindex=\"-1\" href=\"#\" ng-click=\"dropdowns.selectedOrder = c\" class=\"ng-binding\">Number of speeches(desc)</a></li><!-- end ngRepeat: c in dropdowns.orderlist --><li role=\"presentation\" ng-repeat=\"c in dropdowns.orderlist\" class=\"ng-scope\"><a role=\"menuitem\" tabindex=\"-1\" href=\"#\" ng-click=\"dropdowns.selectedOrder = c\" class=\"ng-binding\">Number of speeches(asc)</a></li><!-- end ngRepeat: c in dropdowns.orderlist -->\n",
    "                                </ul>\n",
    "                            </div>\n",
    "                            <!-- \n",
    "\t\t\t\t\t\t    <div class=\"btn-group\" id=\"orderGroup\" style=\"margin-bottom:10px;\">\n",
    "\t\t\t\t\t\t      <label class=\"btn btn-default\" ng-model=\"radioOrderBy\" \n",
    "\t\t\t\t\t\t       checked btn-radio=\"'Relevance'\" ng-click=\"onOrderChanged('Relevance')\">Relevance</label>\n",
    "\n",
    "\t\t\t\t\t\t       <label class=\"btn btn-default\" ng-model=\"radioOrderBy\" \n",
    "\t\t\t\t\t\t       \tbtn-radio=\"'Date'\" ng-click=\"onOrderChanged('Date')\">Date</label>\n",
    "\n",
    "                               <label ng-show=\"dropdowns.selectedDocType.toLowerCase() != 'speech'\" class=\"btn btn-default\" ng-model=\"radioOrderBy\" \n",
    "                                btn-radio=\"'Number of speeches'\" ng-click=\"onOrderChanged('Number of speeches')\">Number of speeches</label>\n",
    "\t\t\t\t\t\t\t</div>\n",
    "                            -->\n",
    "\t\t\t\t\t\t</div>\n",
    "\t\t\t\t\t</div>\n",
    "\n",
    "                    <!-- ngRepeat: hit in hits --><div ng-repeat=\"hit in hits\" class=\"panel panel-default ng-scope\" ng-click=\"onHitClicked(hit)\" style=\"cursor:pointer;\" role=\"button\" tabindex=\"0\">\n",
    "                        <div class=\"panel-heading\">\n",
    "                            <div style=\"display:inline; float:left;\">\n",
    "                                <div class=\"ng-binding\">1.&nbsp;</div>\n",
    "                            </div>\n",
    "                            <p style=\"font-weight:bold;\" class=\"ng-binding\">9. Verantwoordingsdebat</p>\n",
    "                            <div>\n",
    "                                <span class=\"label label-success ng-binding\">Wilders</span>\n",
    "                                <span class=\"label label-danger ng-binding\">PVV</span>  \n",
    "                                <span class=\"label label-primary ng-binding\">2011-05-19</span>\n",
    "                                <span ng-show=\"hit._source.paragraphs_count\" class=\"label label-default ng-binding\" aria-hidden=\"false\">2 paragraphs</span>\n",
    "                                <span ng-show=\"hit._source.speeches_count\" class=\"label label-default ng-binding ng-hide\" aria-hidden=\"true\"> speeches</span>\n",
    "                                <span ng-show=\"hit._source.scenes_count\" class=\"label label-info ng-binding ng-hide\" aria-hidden=\"true\"> scenes</span> \n",
    "                                <span ng-show=\"hit._source.stagedirs_count\" class=\"label label-default ng-binding ng-hide\" aria-hidden=\"true\"> stage directions</span> \n",
    "                            </div>\n",
    "                        </div>\n",
    "                        <div class=\"panel-body ng-binding\" ng-bind-html=\"hit.highlight.fulltext[0] | to_trusted\"> hij <em>thee</em> zat te drinken met die haatimams, want dat had ik mij zeker kunnen herinneren. Misschien was het erna. We zullen het zien. Voorzitter. Ik heb nog een aantal vragen aan het kabinet waar ik kort doorheen zal gaan, over immigratie en andere punten. Ik wil graag weten hoe het daarmee staat.</div>\n",
    "                    </div><!-- end ngRepeat: hit in hits --><div ng-repeat=\"hit in hits\" class=\"panel panel-default ng-scope\" ng-click=\"onHitClicked(hit)\" style=\"cursor:pointer;\" role=\"button\" tabindex=\"0\">\n",
    "                        <div class=\"panel-heading\">\n",
    "                            <div style=\"display:inline; float:left;\">\n",
    "                                <div class=\"ng-binding\">2.&nbsp;</div>\n",
    "                            </div>\n",
    "                            <p style=\"font-weight:bold;\" class=\"ng-binding\">Verantwoordingsdebat</p>\n",
    "                            <div>\n",
    "                                <span class=\"label label-success ng-binding\">Wilders</span>\n",
    "                                <span class=\"label label-danger ng-binding\">PVV</span>  \n",
    "                                <span class=\"label label-primary ng-binding\">2009-05-28</span>\n",
    "                                <span ng-show=\"hit._source.paragraphs_count\" class=\"label label-default ng-binding\" aria-hidden=\"false\">3 paragraphs</span>\n",
    "                                <span ng-show=\"hit._source.speeches_count\" class=\"label label-default ng-binding ng-hide\" aria-hidden=\"true\"> speeches</span>\n",
    "                                <span ng-show=\"hit._source.scenes_count\" class=\"label label-info ng-binding ng-hide\" aria-hidden=\"true\"> scenes</span> \n",
    "                                <span ng-show=\"hit._source.stagedirs_count\" class=\"label label-default ng-binding ng-hide\" aria-hidden=\"true\"> stage directions</span> \n",
    "                            </div>\n",
    "                        </div>\n",
    "                        <div class=\"panel-body ng-binding\" ng-bind-html=\"hit.highlight.fulltext[0] | to_trusted\">Voorzitter. Ze was verkracht. Maar ze was niet kwaad. De journaliste die op zoek ging naar de taliban in Afghanistan zag haar nieuwsgierigheid omgezet in een wrede, meervoudige verkrachting. Maar waar dat bij anderen leidt tot woede of verdriet, toont deze journaliste vooral begrip. Ze zegt: er was ook respect voor mij. En ze kreeg nog <em>thee</em> met</div>\n",
    "                    </div><!-- end ngRepeat: hit in hits --><div ng-repeat=\"hit in hits\" class=\"panel panel-default ng-scope\" ng-click=\"onHitClicked(hit)\" style=\"cursor:pointer;\" role=\"button\" tabindex=\"0\">\n",
    "                        <div class=\"panel-heading\">\n",
    "                            <div style=\"display:inline; float:left;\">\n",
    "                                <div class=\"ng-binding\">3.&nbsp;</div>\n",
    "                            </div>\n",
    "                            <p style=\"font-weight:bold;\" class=\"ng-binding\">9. Verantwoordingsdebat</p>\n",
    "                            <div>\n",
    "                                <span class=\"label label-success ng-binding\">Wilders</span>\n",
    "                                <span class=\"label label-danger ng-binding\">PVV</span>  \n",
    "                                <span class=\"label label-primary ng-binding\">2011-05-19</span>\n",
    "                                <span ng-show=\"hit._source.paragraphs_count\" class=\"label label-default ng-binding\" aria-hidden=\"false\">2 paragraphs</span>\n",
    "                                <span ng-show=\"hit._source.speeches_count\" class=\"label label-default ng-binding ng-hide\" aria-hidden=\"true\"> speeches</span>\n",
    "                                <span ng-show=\"hit._source.scenes_count\" class=\"label label-info ng-binding ng-hide\" aria-hidden=\"true\"> scenes</span> \n",
    "                                <span ng-show=\"hit._source.stagedirs_count\" class=\"label label-default ng-binding ng-hide\" aria-hidden=\"true\"> stage directions</span> \n",
    "                            </div>\n",
    "                        </div>\n",
    "                        <div class=\"panel-body ng-binding\" ng-bind-html=\"hit.highlight.fulltext[0] | to_trusted\">De feiten zijn zoals ik ze schetste. U bent verantwoordelijk voor de massa-immigratie. U was degene die in Amsterdam <em>thee</em> ging drinken met mensen van haatmoskeeën en ze ook nog eens subsidieerde. Ja, dat zijn feiten. Dat mag Nederland toch wel weten? Daar bent u zelfs trots op, volgens mij. Waarom mag ik dat dus niet zeggen? Eerder heeft de heer</div>\n",
    "                    </div><!-- end ngRepeat: hit in hits --><div ng-repeat=\"hit in hits\" class=\"panel panel-default ng-scope\" ng-click=\"onHitClicked(hit)\" style=\"cursor:pointer;\" role=\"button\" tabindex=\"0\">\n",
    "                        <div class=\"panel-heading\">\n",
    "                            <div style=\"display:inline; float:left;\">\n",
    "                                <div class=\"ng-binding\">4.&nbsp;</div>\n",
    "                            </div>\n",
    "                            <p style=\"font-weight:bold;\" class=\"ng-binding\">Verantwoordingsdebat</p>\n",
    "                            <div>\n",
    "                                <span class=\"label label-success ng-binding\">Wilders</span>\n",
    "                                <span class=\"label label-danger ng-binding\">PVV</span>  \n",
    "                                <span class=\"label label-primary ng-binding\">2009-05-28</span>\n",
    "                                <span ng-show=\"hit._source.paragraphs_count\" class=\"label label-default ng-binding\" aria-hidden=\"false\">2 paragraphs</span>\n",
    "                                <span ng-show=\"hit._source.speeches_count\" class=\"label label-default ng-binding ng-hide\" aria-hidden=\"true\"> speeches</span>\n",
    "                                <span ng-show=\"hit._source.scenes_count\" class=\"label label-info ng-binding ng-hide\" aria-hidden=\"true\"> scenes</span> \n",
    "                                <span ng-show=\"hit._source.stagedirs_count\" class=\"label label-default ng-binding ng-hide\" aria-hidden=\"true\"> stage directions</span> \n",
    "                            </div>\n",
    "                        </div>\n",
    "                        <div class=\"panel-body ng-binding\" ng-bind-html=\"hit.highlight.fulltext[0] | to_trusted\"> <em>thee</em> te drinken. Laat ik u twee voorbeelden geven waarmee u ook de PvdA-kiezer in de moeilijke wijken in Amsterdam, Rotterdam en Gouda zou kunnen helpen en waarvoor wij hier verantwoordelijkheid kunnen dragen. U zou kunnen instemmen met een wet op minimumstraffen. U zou ervoor kunnen zorgen dat als tuig – helaas vaak Marokkaans tuig – als het over de</div>\n",
    "                    </div><!-- end ngRepeat: hit in hits --><div ng-repeat=\"hit in hits\" class=\"panel panel-default ng-scope\" ng-click=\"onHitClicked(hit)\" style=\"cursor:pointer;\" role=\"button\" tabindex=\"0\">\n",
    "                        <div class=\"panel-heading\">\n",
    "                            <div style=\"display:inline; float:left;\">\n",
    "                                <div class=\"ng-binding\">5.&nbsp;</div>\n",
    "                            </div>\n",
    "                            <p style=\"font-weight:bold;\" class=\"ng-binding\">Buitenlandse Zaken</p>\n",
    "                            <div>\n",
    "                                <span class=\"label label-success ng-binding\">Wilders</span>\n",
    "                                <span class=\"label label-danger ng-binding\">PVV</span>  \n",
    "                                <span class=\"label label-primary ng-binding\">2007-11-08</span>\n",
    "                                <span ng-show=\"hit._source.paragraphs_count\" class=\"label label-default ng-binding\" aria-hidden=\"false\">9 paragraphs</span>\n",
    "                                <span ng-show=\"hit._source.speeches_count\" class=\"label label-default ng-binding ng-hide\" aria-hidden=\"true\"> speeches</span>\n",
    "                                <span ng-show=\"hit._source.scenes_count\" class=\"label label-info ng-binding ng-hide\" aria-hidden=\"true\"> scenes</span> \n",
    "                                <span ng-show=\"hit._source.stagedirs_count\" class=\"label label-default ng-binding ng-hide\" aria-hidden=\"true\"> stage directions</span> \n",
    "                            </div>\n",
    "                        </div>\n",
    "                        <div class=\"panel-body ng-binding\" ng-bind-html=\"hit.highlight.fulltext[0] | to_trusted\"> demarches onderneemt als het om Iran gaat, maar een kopje <em>thee</em> gaat drinken met een Saudische prins en marge van de Verenigde Naties. Om dat te veranderen dien ik de volgende motie in. De Kamer, gehoord de beraadslaging, overwegende dat mensenrechtenschendingen altijd dienen te worden veroordeeld en dat economische of politieke belangen ten aanzien van</div>\n",
    "                    </div><!-- end ngRepeat: hit in hits --><div ng-repeat=\"hit in hits\" class=\"panel panel-default ng-scope\" ng-click=\"onHitClicked(hit)\" style=\"cursor:pointer;\" role=\"button\" tabindex=\"0\">\n",
    "                        <div class=\"panel-heading\">\n",
    "                            <div style=\"display:inline; float:left;\">\n",
    "                                <div class=\"ng-binding\">6.&nbsp;</div>\n",
    "                            </div>\n",
    "                            <p style=\"font-weight:bold;\" class=\"ng-binding\">Algemene politieke beschouwingen</p>\n",
    "                            <div>\n",
    "                                <span class=\"label label-success ng-binding\">Wilders</span>\n",
    "                                <span class=\"label label-danger ng-binding\">PVV</span>  \n",
    "                                <span class=\"label label-primary ng-binding\">2007-09-19</span>\n",
    "                                <span ng-show=\"hit._source.paragraphs_count\" class=\"label label-default ng-binding\" aria-hidden=\"false\">5 paragraphs</span>\n",
    "                                <span ng-show=\"hit._source.speeches_count\" class=\"label label-default ng-binding ng-hide\" aria-hidden=\"true\"> speeches</span>\n",
    "                                <span ng-show=\"hit._source.scenes_count\" class=\"label label-info ng-binding ng-hide\" aria-hidden=\"true\"> scenes</span> \n",
    "                                <span ng-show=\"hit._source.stagedirs_count\" class=\"label label-default ng-binding ng-hide\" aria-hidden=\"true\"> stage directions</span> \n",
    "                            </div>\n",
    "                        </div>\n",
    "                        <div class=\"panel-body ng-binding\" ng-bind-html=\"hit.highlight.fulltext[0] | to_trusted\"> het Rabat aan de Rijn. Inmiddels moet minister Vogelaar vaststellen dat de problemen met de immigratie nergens zo groot zijn als in Amsterdam. Juist daar! Juist waar de Partij van de Arbeid als tienduizend jaar aan de macht is, juist waar de ongekozen burgemeester Cohen liters <em>thee</em> drinkt met imams is de situatie het ergst. Hoe meer <em>thee</em>, hoe meer</div>\n",
    "                    </div><!-- end ngRepeat: hit in hits --><div ng-repeat=\"hit in hits\" class=\"panel panel-default ng-scope\" ng-click=\"onHitClicked(hit)\" style=\"cursor:pointer;\" role=\"button\" tabindex=\"0\">\n",
    "                        <div class=\"panel-heading\">\n",
    "                            <div style=\"display:inline; float:left;\">\n",
    "                                <div class=\"ng-binding\">7.&nbsp;</div>\n",
    "                            </div>\n",
    "                            <p style=\"font-weight:bold;\" class=\"ng-binding\">Niet toelaten Wilders</p>\n",
    "                            <div>\n",
    "                                <span class=\"label label-success ng-binding\">Wilders</span>\n",
    "                                <span class=\"label label-danger ng-binding\">PVV</span>  \n",
    "                                <span class=\"label label-primary ng-binding\">2009-02-18</span>\n",
    "                                <span ng-show=\"hit._source.paragraphs_count\" class=\"label label-default ng-binding\" aria-hidden=\"false\">1 paragraphs</span>\n",
    "                                <span ng-show=\"hit._source.speeches_count\" class=\"label label-default ng-binding ng-hide\" aria-hidden=\"true\"> speeches</span>\n",
    "                                <span ng-show=\"hit._source.scenes_count\" class=\"label label-info ng-binding ng-hide\" aria-hidden=\"true\"> scenes</span> \n",
    "                                <span ng-show=\"hit._source.stagedirs_count\" class=\"label label-default ng-binding ng-hide\" aria-hidden=\"true\"> stage directions</span> \n",
    "                            </div>\n",
    "                        </div>\n",
    "                        <div class=\"panel-body ng-binding\" ng-bind-html=\"hit.highlight.fulltext[0] | to_trusted\">Er is geen consequentie mogelijk, maar als wij het niet weten, als het kabinet het niet eens probeert, als het kabinet alleen een kopje <em>thee</em> gaat drinken op vrijdag als het allemaal al gebeurd is, alleen even de telefoon pakt, ja dan komen wij er natuurlijk nooit achter wat er gebeurt. Dus als de minister-president nu een keer ballen toonde en echt zou bellen met de ...</div>\n",
    "                    </div><!-- end ngRepeat: hit in hits --><div ng-repeat=\"hit in hits\" class=\"panel panel-default ng-scope\" ng-click=\"onHitClicked(hit)\" style=\"cursor:pointer;\" role=\"button\" tabindex=\"0\">\n",
    "                        <div class=\"panel-heading\">\n",
    "                            <div style=\"display:inline; float:left;\">\n",
    "                                <div class=\"ng-binding\">8.&nbsp;</div>\n",
    "                            </div>\n",
    "                            <p style=\"font-weight:bold;\" class=\"ng-binding\">Verantwoordingsdebat</p>\n",
    "                            <div>\n",
    "                                <span class=\"label label-success ng-binding\">Wilders</span>\n",
    "                                <span class=\"label label-danger ng-binding\">PVV</span>  \n",
    "                                <span class=\"label label-primary ng-binding\">2009-05-28</span>\n",
    "                                <span ng-show=\"hit._source.paragraphs_count\" class=\"label label-default ng-binding\" aria-hidden=\"false\">1 paragraphs</span>\n",
    "                                <span ng-show=\"hit._source.speeches_count\" class=\"label label-default ng-binding ng-hide\" aria-hidden=\"true\"> speeches</span>\n",
    "                                <span ng-show=\"hit._source.scenes_count\" class=\"label label-info ng-binding ng-hide\" aria-hidden=\"true\"> scenes</span> \n",
    "                                <span ng-show=\"hit._source.stagedirs_count\" class=\"label label-default ng-binding ng-hide\" aria-hidden=\"true\"> stage directions</span> \n",
    "                            </div>\n",
    "                        </div>\n",
    "                        <div class=\"panel-body ng-binding\" ng-bind-html=\"hit.highlight.fulltext[0] | to_trusted\">Wat ik niet begrijp, is dat die vrouw zich niet als slachtoffer gedraagt en dat zij begrip heeft voor de taliban. Ze heeft begrip voor de taliban en zegt dat ze het beeld wil nuanceren: ze hebben ook respect voor mij gehad, ik kreeg ook <em>thee</em> met koekjes en het verhaal is genuanceerder dan u denkt van een platte verkrachting. Ik verzet mij</div>\n",
    "                    </div><!-- end ngRepeat: hit in hits -->\n",
    "                    <div ng-show=\"hits.length > 0\" aria-hidden=\"false\" class=\"\">\n",
    "                        <ul class=\"pagination ng-isolate-scope ng-valid\" total-items=\"numberHits\" items-per-page=\"10\" ng-model=\"currentPage\" max-size=\"10\" ng-change=\"pageChanged()\" tabindex=\"0\" aria-invalid=\"false\">\n",
    "  <!-- ngIf: boundaryLinks -->\n",
    "  <!-- ngIf: directionLinks --><li ng-if=\"directionLinks\" ng-class=\"{disabled: noPrevious()}\" class=\"ng-scope disabled\"><a href=\"\" ng-click=\"selectPage(page - 1)\" class=\"ng-binding\" tabindex=\"0\">Previous</a></li><!-- end ngIf: directionLinks -->\n",
    "  <!-- ngRepeat: page in pages track by $index --><li ng-repeat=\"page in pages track by $index\" ng-class=\"{active: page.active}\" class=\"ng-scope active\"><a href=\"\" ng-click=\"selectPage(page.number)\" class=\"ng-binding\" tabindex=\"0\">1</a></li><!-- end ngRepeat: page in pages track by $index -->\n",
    "  <!-- ngIf: directionLinks --><li ng-if=\"directionLinks\" ng-class=\"{disabled: noNext()}\" class=\"ng-scope disabled\"><a href=\"\" ng-click=\"selectPage(page + 1)\" class=\"ng-binding\" tabindex=\"0\">Next</a></li><!-- end ngIf: directionLinks -->\n",
    "  <!-- ngIf: boundaryLinks -->\n",
    "</ul>\n",
    "                    </div>\n",
    "                </div>\n",
    "                    '''"
   ]
  },
  {
   "cell_type": "code",
   "execution_count": 16,
   "metadata": {},
   "outputs": [
    {
     "data": {
      "text/plain": [
       "'NRC'"
      ]
     },
     "execution_count": 16,
     "metadata": {},
     "output_type": "execute_result"
    }
   ],
   "source": [
    "top = ('NRC', 13)\n",
    "top[0]"
   ]
  },
  {
   "cell_type": "code",
   "execution_count": null,
   "metadata": {},
   "outputs": [],
   "source": []
  }
 ],
 "metadata": {
  "kernelspec": {
   "display_name": "Python 3",
   "language": "python",
   "name": "python3"
  },
  "language_info": {
   "codemirror_mode": {
    "name": "ipython",
    "version": 3
   },
   "file_extension": ".py",
   "mimetype": "text/x-python",
   "name": "python",
   "nbconvert_exporter": "python",
   "pygments_lexer": "ipython3",
   "version": "3.6.2"
  }
 },
 "nbformat": 4,
 "nbformat_minor": 1
}
